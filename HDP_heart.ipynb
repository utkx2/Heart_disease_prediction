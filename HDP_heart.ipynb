{
 "cells": [
  {
   "cell_type": "code",
   "execution_count": 88,
   "metadata": {
    "_uuid": "f571f7e57c828d45fe55f6136fe8c2e796f74d4e"
   },
   "outputs": [
    {
     "name": "stdout",
     "output_type": "stream",
     "text": [
      "['.DS_Store', 'heart.csv', 'HDP_heart.ipynb', '.git']\n"
     ]
    }
   ],
   "source": [
    "import numpy as np\n",
    "import pandas as pd\n",
    "import matplotlib.pyplot as plt\n",
    "import seaborn as sns\n",
    "import xgboost as xgb\n",
    "from sklearn.linear_model import LogisticRegression\n",
    "from sklearn.metrics import accuracy_score\n",
    "from sklearn.naive_bayes import GaussianNB\n",
    "from sklearn import svm\n",
    "from sklearn.neighbors import KNeighborsClassifier\n",
    "from sklearn.tree import DecisionTreeClassifier\n",
    "from sklearn.ensemble import RandomForestClassifier\n",
    "import tensorflow as tf\n",
    "from sklearn.model_selection import train_test_split\n",
    "from keras import layers\n",
    "from kerastuner.tuners import RandomSearch\n",
    "\n",
    "%matplotlib inline\n",
    "\n",
    "import os\n",
    "print(os.listdir())\n",
    "\n",
    "import warnings\n",
    "warnings.filterwarnings('ignore')"
   ]
  },
  {
   "cell_type": "code",
   "execution_count": 3,
   "metadata": {
    "_uuid": "2a1a1dae64ae3c934849b2b918bc7d68cd59e3f6"
   },
   "outputs": [],
   "source": [
    "dataset = pd.read_csv(\"heart.csv\")"
   ]
  },
  {
   "cell_type": "code",
   "execution_count": 4,
   "metadata": {
    "_uuid": "86353d54a331dbf55a63874402cf13e2a72c3750"
   },
   "outputs": [
    {
     "data": {
      "text/plain": [
       "pandas.core.frame.DataFrame"
      ]
     },
     "execution_count": 4,
     "metadata": {},
     "output_type": "execute_result"
    }
   ],
   "source": [
    "type(dataset)"
   ]
  },
  {
   "cell_type": "code",
   "execution_count": 5,
   "metadata": {
    "_uuid": "0a2396061d262bee451e61dd51be84d0bd1ac9d0"
   },
   "outputs": [
    {
     "data": {
      "text/plain": [
       "(303, 14)"
      ]
     },
     "execution_count": 5,
     "metadata": {},
     "output_type": "execute_result"
    }
   ],
   "source": [
    "dataset.shape"
   ]
  },
  {
   "cell_type": "code",
   "execution_count": 6,
   "metadata": {
    "_uuid": "87ebcc578e5959fe9a9c9a538c73122183454459"
   },
   "outputs": [
    {
     "data": {
      "text/html": [
       "<div>\n",
       "<style scoped>\n",
       "    .dataframe tbody tr th:only-of-type {\n",
       "        vertical-align: middle;\n",
       "    }\n",
       "\n",
       "    .dataframe tbody tr th {\n",
       "        vertical-align: top;\n",
       "    }\n",
       "\n",
       "    .dataframe thead th {\n",
       "        text-align: right;\n",
       "    }\n",
       "</style>\n",
       "<table border=\"1\" class=\"dataframe\">\n",
       "  <thead>\n",
       "    <tr style=\"text-align: right;\">\n",
       "      <th></th>\n",
       "      <th>age</th>\n",
       "      <th>sex</th>\n",
       "      <th>cp</th>\n",
       "      <th>trestbps</th>\n",
       "      <th>chol</th>\n",
       "      <th>fbs</th>\n",
       "      <th>restecg</th>\n",
       "      <th>thalach</th>\n",
       "      <th>exang</th>\n",
       "      <th>oldpeak</th>\n",
       "      <th>slope</th>\n",
       "      <th>ca</th>\n",
       "      <th>thal</th>\n",
       "      <th>target</th>\n",
       "    </tr>\n",
       "  </thead>\n",
       "  <tbody>\n",
       "    <tr>\n",
       "      <th>0</th>\n",
       "      <td>63</td>\n",
       "      <td>1</td>\n",
       "      <td>3</td>\n",
       "      <td>145</td>\n",
       "      <td>233</td>\n",
       "      <td>1</td>\n",
       "      <td>0</td>\n",
       "      <td>150</td>\n",
       "      <td>0</td>\n",
       "      <td>2.3</td>\n",
       "      <td>0</td>\n",
       "      <td>0</td>\n",
       "      <td>1</td>\n",
       "      <td>1</td>\n",
       "    </tr>\n",
       "    <tr>\n",
       "      <th>1</th>\n",
       "      <td>37</td>\n",
       "      <td>1</td>\n",
       "      <td>2</td>\n",
       "      <td>130</td>\n",
       "      <td>250</td>\n",
       "      <td>0</td>\n",
       "      <td>1</td>\n",
       "      <td>187</td>\n",
       "      <td>0</td>\n",
       "      <td>3.5</td>\n",
       "      <td>0</td>\n",
       "      <td>0</td>\n",
       "      <td>2</td>\n",
       "      <td>1</td>\n",
       "    </tr>\n",
       "    <tr>\n",
       "      <th>2</th>\n",
       "      <td>41</td>\n",
       "      <td>0</td>\n",
       "      <td>1</td>\n",
       "      <td>130</td>\n",
       "      <td>204</td>\n",
       "      <td>0</td>\n",
       "      <td>0</td>\n",
       "      <td>172</td>\n",
       "      <td>0</td>\n",
       "      <td>1.4</td>\n",
       "      <td>2</td>\n",
       "      <td>0</td>\n",
       "      <td>2</td>\n",
       "      <td>1</td>\n",
       "    </tr>\n",
       "    <tr>\n",
       "      <th>3</th>\n",
       "      <td>56</td>\n",
       "      <td>1</td>\n",
       "      <td>1</td>\n",
       "      <td>120</td>\n",
       "      <td>236</td>\n",
       "      <td>0</td>\n",
       "      <td>1</td>\n",
       "      <td>178</td>\n",
       "      <td>0</td>\n",
       "      <td>0.8</td>\n",
       "      <td>2</td>\n",
       "      <td>0</td>\n",
       "      <td>2</td>\n",
       "      <td>1</td>\n",
       "    </tr>\n",
       "    <tr>\n",
       "      <th>4</th>\n",
       "      <td>57</td>\n",
       "      <td>0</td>\n",
       "      <td>0</td>\n",
       "      <td>120</td>\n",
       "      <td>354</td>\n",
       "      <td>0</td>\n",
       "      <td>1</td>\n",
       "      <td>163</td>\n",
       "      <td>1</td>\n",
       "      <td>0.6</td>\n",
       "      <td>2</td>\n",
       "      <td>0</td>\n",
       "      <td>2</td>\n",
       "      <td>1</td>\n",
       "    </tr>\n",
       "  </tbody>\n",
       "</table>\n",
       "</div>"
      ],
      "text/plain": [
       "   age  sex  cp  trestbps  chol  fbs  restecg  thalach  exang  oldpeak  slope  \\\n",
       "0   63    1   3       145   233    1        0      150      0      2.3      0   \n",
       "1   37    1   2       130   250    0        1      187      0      3.5      0   \n",
       "2   41    0   1       130   204    0        0      172      0      1.4      2   \n",
       "3   56    1   1       120   236    0        1      178      0      0.8      2   \n",
       "4   57    0   0       120   354    0        1      163      1      0.6      2   \n",
       "\n",
       "   ca  thal  target  \n",
       "0   0     1       1  \n",
       "1   0     2       1  \n",
       "2   0     2       1  \n",
       "3   0     2       1  \n",
       "4   0     2       1  "
      ]
     },
     "execution_count": 6,
     "metadata": {},
     "output_type": "execute_result"
    }
   ],
   "source": [
    "dataset.head(5)"
   ]
  },
  {
   "cell_type": "code",
   "execution_count": 7,
   "metadata": {
    "_uuid": "5132eb43114bf99d5f857f459d0c9d2faffc9644"
   },
   "outputs": [
    {
     "data": {
      "text/html": [
       "<div>\n",
       "<style scoped>\n",
       "    .dataframe tbody tr th:only-of-type {\n",
       "        vertical-align: middle;\n",
       "    }\n",
       "\n",
       "    .dataframe tbody tr th {\n",
       "        vertical-align: top;\n",
       "    }\n",
       "\n",
       "    .dataframe thead th {\n",
       "        text-align: right;\n",
       "    }\n",
       "</style>\n",
       "<table border=\"1\" class=\"dataframe\">\n",
       "  <thead>\n",
       "    <tr style=\"text-align: right;\">\n",
       "      <th></th>\n",
       "      <th>age</th>\n",
       "      <th>sex</th>\n",
       "      <th>cp</th>\n",
       "      <th>trestbps</th>\n",
       "      <th>chol</th>\n",
       "      <th>fbs</th>\n",
       "      <th>restecg</th>\n",
       "      <th>thalach</th>\n",
       "      <th>exang</th>\n",
       "      <th>oldpeak</th>\n",
       "      <th>slope</th>\n",
       "      <th>ca</th>\n",
       "      <th>thal</th>\n",
       "      <th>target</th>\n",
       "    </tr>\n",
       "  </thead>\n",
       "  <tbody>\n",
       "    <tr>\n",
       "      <th>209</th>\n",
       "      <td>59</td>\n",
       "      <td>1</td>\n",
       "      <td>0</td>\n",
       "      <td>140</td>\n",
       "      <td>177</td>\n",
       "      <td>0</td>\n",
       "      <td>1</td>\n",
       "      <td>162</td>\n",
       "      <td>1</td>\n",
       "      <td>0.0</td>\n",
       "      <td>2</td>\n",
       "      <td>1</td>\n",
       "      <td>3</td>\n",
       "      <td>0</td>\n",
       "    </tr>\n",
       "    <tr>\n",
       "      <th>120</th>\n",
       "      <td>64</td>\n",
       "      <td>0</td>\n",
       "      <td>0</td>\n",
       "      <td>130</td>\n",
       "      <td>303</td>\n",
       "      <td>0</td>\n",
       "      <td>1</td>\n",
       "      <td>122</td>\n",
       "      <td>0</td>\n",
       "      <td>2.0</td>\n",
       "      <td>1</td>\n",
       "      <td>2</td>\n",
       "      <td>2</td>\n",
       "      <td>1</td>\n",
       "    </tr>\n",
       "    <tr>\n",
       "      <th>268</th>\n",
       "      <td>54</td>\n",
       "      <td>1</td>\n",
       "      <td>0</td>\n",
       "      <td>122</td>\n",
       "      <td>286</td>\n",
       "      <td>0</td>\n",
       "      <td>0</td>\n",
       "      <td>116</td>\n",
       "      <td>1</td>\n",
       "      <td>3.2</td>\n",
       "      <td>1</td>\n",
       "      <td>2</td>\n",
       "      <td>2</td>\n",
       "      <td>0</td>\n",
       "    </tr>\n",
       "    <tr>\n",
       "      <th>48</th>\n",
       "      <td>53</td>\n",
       "      <td>0</td>\n",
       "      <td>2</td>\n",
       "      <td>128</td>\n",
       "      <td>216</td>\n",
       "      <td>0</td>\n",
       "      <td>0</td>\n",
       "      <td>115</td>\n",
       "      <td>0</td>\n",
       "      <td>0.0</td>\n",
       "      <td>2</td>\n",
       "      <td>0</td>\n",
       "      <td>0</td>\n",
       "      <td>1</td>\n",
       "    </tr>\n",
       "    <tr>\n",
       "      <th>49</th>\n",
       "      <td>53</td>\n",
       "      <td>0</td>\n",
       "      <td>0</td>\n",
       "      <td>138</td>\n",
       "      <td>234</td>\n",
       "      <td>0</td>\n",
       "      <td>0</td>\n",
       "      <td>160</td>\n",
       "      <td>0</td>\n",
       "      <td>0.0</td>\n",
       "      <td>2</td>\n",
       "      <td>0</td>\n",
       "      <td>2</td>\n",
       "      <td>1</td>\n",
       "    </tr>\n",
       "  </tbody>\n",
       "</table>\n",
       "</div>"
      ],
      "text/plain": [
       "     age  sex  cp  trestbps  chol  fbs  restecg  thalach  exang  oldpeak  \\\n",
       "209   59    1   0       140   177    0        1      162      1      0.0   \n",
       "120   64    0   0       130   303    0        1      122      0      2.0   \n",
       "268   54    1   0       122   286    0        0      116      1      3.2   \n",
       "48    53    0   2       128   216    0        0      115      0      0.0   \n",
       "49    53    0   0       138   234    0        0      160      0      0.0   \n",
       "\n",
       "     slope  ca  thal  target  \n",
       "209      2   1     3       0  \n",
       "120      1   2     2       1  \n",
       "268      1   2     2       0  \n",
       "48       2   0     0       1  \n",
       "49       2   0     2       1  "
      ]
     },
     "execution_count": 7,
     "metadata": {},
     "output_type": "execute_result"
    }
   ],
   "source": [
    "dataset.sample(5)"
   ]
  },
  {
   "cell_type": "code",
   "execution_count": 8,
   "metadata": {
    "_uuid": "c31619815cb0dae5586985671fdc21110b39a821"
   },
   "outputs": [
    {
     "data": {
      "text/html": [
       "<div>\n",
       "<style scoped>\n",
       "    .dataframe tbody tr th:only-of-type {\n",
       "        vertical-align: middle;\n",
       "    }\n",
       "\n",
       "    .dataframe tbody tr th {\n",
       "        vertical-align: top;\n",
       "    }\n",
       "\n",
       "    .dataframe thead th {\n",
       "        text-align: right;\n",
       "    }\n",
       "</style>\n",
       "<table border=\"1\" class=\"dataframe\">\n",
       "  <thead>\n",
       "    <tr style=\"text-align: right;\">\n",
       "      <th></th>\n",
       "      <th>age</th>\n",
       "      <th>sex</th>\n",
       "      <th>cp</th>\n",
       "      <th>trestbps</th>\n",
       "      <th>chol</th>\n",
       "      <th>fbs</th>\n",
       "      <th>restecg</th>\n",
       "      <th>thalach</th>\n",
       "      <th>exang</th>\n",
       "      <th>oldpeak</th>\n",
       "      <th>slope</th>\n",
       "      <th>ca</th>\n",
       "      <th>thal</th>\n",
       "      <th>target</th>\n",
       "    </tr>\n",
       "  </thead>\n",
       "  <tbody>\n",
       "    <tr>\n",
       "      <th>count</th>\n",
       "      <td>303.000000</td>\n",
       "      <td>303.000000</td>\n",
       "      <td>303.000000</td>\n",
       "      <td>303.000000</td>\n",
       "      <td>303.000000</td>\n",
       "      <td>303.000000</td>\n",
       "      <td>303.000000</td>\n",
       "      <td>303.000000</td>\n",
       "      <td>303.000000</td>\n",
       "      <td>303.000000</td>\n",
       "      <td>303.000000</td>\n",
       "      <td>303.000000</td>\n",
       "      <td>303.000000</td>\n",
       "      <td>303.000000</td>\n",
       "    </tr>\n",
       "    <tr>\n",
       "      <th>mean</th>\n",
       "      <td>54.366337</td>\n",
       "      <td>0.683168</td>\n",
       "      <td>0.966997</td>\n",
       "      <td>131.623762</td>\n",
       "      <td>246.264026</td>\n",
       "      <td>0.148515</td>\n",
       "      <td>0.528053</td>\n",
       "      <td>149.646865</td>\n",
       "      <td>0.326733</td>\n",
       "      <td>1.039604</td>\n",
       "      <td>1.399340</td>\n",
       "      <td>0.729373</td>\n",
       "      <td>2.313531</td>\n",
       "      <td>0.544554</td>\n",
       "    </tr>\n",
       "    <tr>\n",
       "      <th>std</th>\n",
       "      <td>9.082101</td>\n",
       "      <td>0.466011</td>\n",
       "      <td>1.032052</td>\n",
       "      <td>17.538143</td>\n",
       "      <td>51.830751</td>\n",
       "      <td>0.356198</td>\n",
       "      <td>0.525860</td>\n",
       "      <td>22.905161</td>\n",
       "      <td>0.469794</td>\n",
       "      <td>1.161075</td>\n",
       "      <td>0.616226</td>\n",
       "      <td>1.022606</td>\n",
       "      <td>0.612277</td>\n",
       "      <td>0.498835</td>\n",
       "    </tr>\n",
       "    <tr>\n",
       "      <th>min</th>\n",
       "      <td>29.000000</td>\n",
       "      <td>0.000000</td>\n",
       "      <td>0.000000</td>\n",
       "      <td>94.000000</td>\n",
       "      <td>126.000000</td>\n",
       "      <td>0.000000</td>\n",
       "      <td>0.000000</td>\n",
       "      <td>71.000000</td>\n",
       "      <td>0.000000</td>\n",
       "      <td>0.000000</td>\n",
       "      <td>0.000000</td>\n",
       "      <td>0.000000</td>\n",
       "      <td>0.000000</td>\n",
       "      <td>0.000000</td>\n",
       "    </tr>\n",
       "    <tr>\n",
       "      <th>25%</th>\n",
       "      <td>47.500000</td>\n",
       "      <td>0.000000</td>\n",
       "      <td>0.000000</td>\n",
       "      <td>120.000000</td>\n",
       "      <td>211.000000</td>\n",
       "      <td>0.000000</td>\n",
       "      <td>0.000000</td>\n",
       "      <td>133.500000</td>\n",
       "      <td>0.000000</td>\n",
       "      <td>0.000000</td>\n",
       "      <td>1.000000</td>\n",
       "      <td>0.000000</td>\n",
       "      <td>2.000000</td>\n",
       "      <td>0.000000</td>\n",
       "    </tr>\n",
       "    <tr>\n",
       "      <th>50%</th>\n",
       "      <td>55.000000</td>\n",
       "      <td>1.000000</td>\n",
       "      <td>1.000000</td>\n",
       "      <td>130.000000</td>\n",
       "      <td>240.000000</td>\n",
       "      <td>0.000000</td>\n",
       "      <td>1.000000</td>\n",
       "      <td>153.000000</td>\n",
       "      <td>0.000000</td>\n",
       "      <td>0.800000</td>\n",
       "      <td>1.000000</td>\n",
       "      <td>0.000000</td>\n",
       "      <td>2.000000</td>\n",
       "      <td>1.000000</td>\n",
       "    </tr>\n",
       "    <tr>\n",
       "      <th>75%</th>\n",
       "      <td>61.000000</td>\n",
       "      <td>1.000000</td>\n",
       "      <td>2.000000</td>\n",
       "      <td>140.000000</td>\n",
       "      <td>274.500000</td>\n",
       "      <td>0.000000</td>\n",
       "      <td>1.000000</td>\n",
       "      <td>166.000000</td>\n",
       "      <td>1.000000</td>\n",
       "      <td>1.600000</td>\n",
       "      <td>2.000000</td>\n",
       "      <td>1.000000</td>\n",
       "      <td>3.000000</td>\n",
       "      <td>1.000000</td>\n",
       "    </tr>\n",
       "    <tr>\n",
       "      <th>max</th>\n",
       "      <td>77.000000</td>\n",
       "      <td>1.000000</td>\n",
       "      <td>3.000000</td>\n",
       "      <td>200.000000</td>\n",
       "      <td>564.000000</td>\n",
       "      <td>1.000000</td>\n",
       "      <td>2.000000</td>\n",
       "      <td>202.000000</td>\n",
       "      <td>1.000000</td>\n",
       "      <td>6.200000</td>\n",
       "      <td>2.000000</td>\n",
       "      <td>4.000000</td>\n",
       "      <td>3.000000</td>\n",
       "      <td>1.000000</td>\n",
       "    </tr>\n",
       "  </tbody>\n",
       "</table>\n",
       "</div>"
      ],
      "text/plain": [
       "              age         sex          cp    trestbps        chol         fbs  \\\n",
       "count  303.000000  303.000000  303.000000  303.000000  303.000000  303.000000   \n",
       "mean    54.366337    0.683168    0.966997  131.623762  246.264026    0.148515   \n",
       "std      9.082101    0.466011    1.032052   17.538143   51.830751    0.356198   \n",
       "min     29.000000    0.000000    0.000000   94.000000  126.000000    0.000000   \n",
       "25%     47.500000    0.000000    0.000000  120.000000  211.000000    0.000000   \n",
       "50%     55.000000    1.000000    1.000000  130.000000  240.000000    0.000000   \n",
       "75%     61.000000    1.000000    2.000000  140.000000  274.500000    0.000000   \n",
       "max     77.000000    1.000000    3.000000  200.000000  564.000000    1.000000   \n",
       "\n",
       "          restecg     thalach       exang     oldpeak       slope          ca  \\\n",
       "count  303.000000  303.000000  303.000000  303.000000  303.000000  303.000000   \n",
       "mean     0.528053  149.646865    0.326733    1.039604    1.399340    0.729373   \n",
       "std      0.525860   22.905161    0.469794    1.161075    0.616226    1.022606   \n",
       "min      0.000000   71.000000    0.000000    0.000000    0.000000    0.000000   \n",
       "25%      0.000000  133.500000    0.000000    0.000000    1.000000    0.000000   \n",
       "50%      1.000000  153.000000    0.000000    0.800000    1.000000    0.000000   \n",
       "75%      1.000000  166.000000    1.000000    1.600000    2.000000    1.000000   \n",
       "max      2.000000  202.000000    1.000000    6.200000    2.000000    4.000000   \n",
       "\n",
       "             thal      target  \n",
       "count  303.000000  303.000000  \n",
       "mean     2.313531    0.544554  \n",
       "std      0.612277    0.498835  \n",
       "min      0.000000    0.000000  \n",
       "25%      2.000000    0.000000  \n",
       "50%      2.000000    1.000000  \n",
       "75%      3.000000    1.000000  \n",
       "max      3.000000    1.000000  "
      ]
     },
     "execution_count": 8,
     "metadata": {},
     "output_type": "execute_result"
    }
   ],
   "source": [
    "dataset.describe()"
   ]
  },
  {
   "cell_type": "code",
   "execution_count": 9,
   "metadata": {
    "_uuid": "718b82039841c137ab7e08a6e79e264643134642"
   },
   "outputs": [
    {
     "name": "stdout",
     "output_type": "stream",
     "text": [
      "<class 'pandas.core.frame.DataFrame'>\n",
      "RangeIndex: 303 entries, 0 to 302\n",
      "Data columns (total 14 columns):\n",
      " #   Column    Non-Null Count  Dtype  \n",
      "---  ------    --------------  -----  \n",
      " 0   age       303 non-null    int64  \n",
      " 1   sex       303 non-null    int64  \n",
      " 2   cp        303 non-null    int64  \n",
      " 3   trestbps  303 non-null    int64  \n",
      " 4   chol      303 non-null    int64  \n",
      " 5   fbs       303 non-null    int64  \n",
      " 6   restecg   303 non-null    int64  \n",
      " 7   thalach   303 non-null    int64  \n",
      " 8   exang     303 non-null    int64  \n",
      " 9   oldpeak   303 non-null    float64\n",
      " 10  slope     303 non-null    int64  \n",
      " 11  ca        303 non-null    int64  \n",
      " 12  thal      303 non-null    int64  \n",
      " 13  target    303 non-null    int64  \n",
      "dtypes: float64(1), int64(13)\n",
      "memory usage: 33.3 KB\n"
     ]
    }
   ],
   "source": [
    "dataset.info()"
   ]
  },
  {
   "cell_type": "code",
   "execution_count": 10,
   "metadata": {
    "_uuid": "5593d1021d54aad598c21f877e57969e6b47f5a8"
   },
   "outputs": [
    {
     "name": "stdout",
     "output_type": "stream",
     "text": [
      "age:\t\t\tage\n",
      "sex:\t\t\t1: male, 0: female\n",
      "cp:\t\t\tchest pain type, 1: typical angina, 2: atypical angina, 3: non-anginal pain, 4: asymptomatic\n",
      "trestbps:\t\t\tresting blood pressure\n",
      "chol:\t\t\t serum cholestoral in mg/dl\n",
      "fbs:\t\t\tfasting blood sugar > 120 mg/dl\n",
      "restecg:\t\t\tresting electrocardiographic results (values 0,1,2)\n",
      "thalach:\t\t\t maximum heart rate achieved\n",
      "exang:\t\t\texercise induced angina\n",
      "oldpeak:\t\t\toldpeak = ST depression induced by exercise relative to rest\n",
      "slope:\t\t\tthe slope of the peak exercise ST segment\n",
      "ca:\t\t\tnumber of major vessels (0-3) colored by flourosopy\n",
      "thal:\t\t\tthal: 3 = normal; 6 = fixed defect; 7 = reversable defect\n"
     ]
    }
   ],
   "source": [
    "info = [\n",
    "                \"age\", \n",
    "                \"1: male, 0: female\", \n",
    "                \"chest pain type, 1: typical angina, 2: atypical angina, 3: non-anginal pain, 4: asymptomatic\", \n",
    "                \"resting blood pressure\", \n",
    "                \" serum cholestoral in mg/dl\", \n",
    "                \"fasting blood sugar > 120 mg/dl\",\n",
    "                \"resting electrocardiographic results (values 0,1,2)\", \n",
    "                \" maximum heart rate achieved\", \n",
    "                \"exercise induced angina\", \n",
    "                \"oldpeak = ST depression induced by exercise relative to rest\", \n",
    "                \"the slope of the peak exercise ST segment\", \n",
    "                \"number of major vessels (0-3) colored by flourosopy\", \n",
    "                \"thal: 3 = normal; 6 = fixed defect; 7 = reversable defect\"\n",
    "        ]\n",
    "\n",
    "\n",
    "for i in range(len(info)):\n",
    "    print(dataset.columns[i]+\":\\t\\t\\t\"+info[i])"
   ]
  },
  {
   "cell_type": "code",
   "execution_count": 11,
   "metadata": {
    "_uuid": "b883243919bd382193ed15e2a90f9b522bf6f1f7"
   },
   "outputs": [
    {
     "data": {
      "text/plain": [
       "count    303.000000\n",
       "mean       0.544554\n",
       "std        0.498835\n",
       "min        0.000000\n",
       "25%        0.000000\n",
       "50%        1.000000\n",
       "75%        1.000000\n",
       "max        1.000000\n",
       "Name: target, dtype: float64"
      ]
     },
     "execution_count": 11,
     "metadata": {},
     "output_type": "execute_result"
    }
   ],
   "source": [
    "dataset[\"target\"].describe()"
   ]
  },
  {
   "cell_type": "code",
   "execution_count": 12,
   "metadata": {
    "_uuid": "9c107b83e0148914826282bf1f0ab28505d577ab"
   },
   "outputs": [
    {
     "data": {
      "text/plain": [
       "array([1, 0])"
      ]
     },
     "execution_count": 12,
     "metadata": {},
     "output_type": "execute_result"
    }
   ],
   "source": [
    "dataset[\"target\"].unique()"
   ]
  },
  {
   "cell_type": "code",
   "execution_count": 13,
   "metadata": {
    "_uuid": "3059188d3874be2e0c80e13655609ac6a6fc644f"
   },
   "outputs": [
    {
     "name": "stdout",
     "output_type": "stream",
     "text": [
      "target      1.000000\n",
      "exang       0.436757\n",
      "cp          0.433798\n",
      "oldpeak     0.430696\n",
      "thalach     0.421741\n",
      "ca          0.391724\n",
      "slope       0.345877\n",
      "thal        0.344029\n",
      "sex         0.280937\n",
      "age         0.225439\n",
      "trestbps    0.144931\n",
      "restecg     0.137230\n",
      "chol        0.085239\n",
      "fbs         0.028046\n",
      "Name: target, dtype: float64\n"
     ]
    }
   ],
   "source": [
    "print(dataset.corr()[\"target\"].abs().sort_values(ascending=False))"
   ]
  },
  {
   "cell_type": "code",
   "execution_count": 14,
   "metadata": {
    "_uuid": "29aa23ccb8e6438688e16346b3474f4cc03bae13"
   },
   "outputs": [
    {
     "name": "stdout",
     "output_type": "stream",
     "text": [
      "1    165\n",
      "0    138\n",
      "Name: target, dtype: int64\n"
     ]
    },
    {
     "data": {
      "image/png": "[encoded data removed]",
      "text/plain": [
       "<Figure size 640x480 with 1 Axes>"
      ]
     },
     "metadata": {},
     "output_type": "display_data"
    }
   ],
   "source": [
    "y = dataset[\"target\"]\n",
    "sns.countplot(x=\"target\", data=dataset)\n",
    "target_temp = dataset.target.value_counts()\n",
    "print(target_temp)"
   ]
  },
  {
   "cell_type": "code",
   "execution_count": 15,
   "metadata": {
    "_uuid": "5240af8bcd12736900050cea077c713d7d9641df"
   },
   "outputs": [
    {
     "name": "stdout",
     "output_type": "stream",
     "text": [
      "Percentage of patience without heart problems: 45.54\n",
      "Percentage of patience with heart problems: 54.46\n"
     ]
    }
   ],
   "source": [
    "print(\"Percentage of patience without heart problems: \" + str(round(target_temp[0]*100/303, 2)))\n",
    "print(\"Percentage of patience with heart problems: \" + str(round(target_temp[1]*100/303, 2)))"
   ]
  },
  {
   "cell_type": "code",
   "execution_count": 16,
   "metadata": {
    "_uuid": "07a3fb2f44b82360d0393377029851655bcdcd31"
   },
   "outputs": [
    {
     "data": {
      "text/plain": [
       "array([1, 0])"
      ]
     },
     "execution_count": 16,
     "metadata": {},
     "output_type": "execute_result"
    }
   ],
   "source": [
    "dataset[\"sex\"].unique()"
   ]
  },
  {
   "cell_type": "code",
   "execution_count": 17,
   "metadata": {
    "_uuid": "5d10e6c167251e6d3b1b82a06159da234eeef721"
   },
   "outputs": [
    {
     "data": {
      "text/plain": [
       "<Axes: xlabel='sex', ylabel='count'>"
      ]
     },
     "execution_count": 17,
     "metadata": {},
     "output_type": "execute_result"
    },
    {
     "data": {
      "image/png": "[encoded data removed]",
      "text/plain": [
       "<Figure size 640x480 with 1 Axes>"
      ]
     },
     "metadata": {},
     "output_type": "display_data"
    }
   ],
   "source": [
    "sns.countplot(x=\"sex\", data=dataset)"
   ]
  },
  {
   "cell_type": "code",
   "execution_count": 18,
   "metadata": {
    "_uuid": "7c795d4a86ee05d58e10a412add90065afbd4a70"
   },
   "outputs": [
    {
     "data": {
      "text/plain": [
       "array([3, 2, 1, 0])"
      ]
     },
     "execution_count": 18,
     "metadata": {},
     "output_type": "execute_result"
    }
   ],
   "source": [
    "dataset[\"cp\"].unique()"
   ]
  },
  {
   "cell_type": "code",
   "execution_count": 19,
   "metadata": {
    "_uuid": "56d6ed2b3d8d20a61814980cd459502b452d14c1"
   },
   "outputs": [
    {
     "data": {
      "text/plain": [
       "<Axes: xlabel='cp', ylabel='count'>"
      ]
     },
     "execution_count": 19,
     "metadata": {},
     "output_type": "execute_result"
    },
    {
     "data": {
      "image/png": "[encoded data removed]",
      "text/plain": [
       "<Figure size 640x480 with 1 Axes>"
      ]
     },
     "metadata": {},
     "output_type": "display_data"
    }
   ],
   "source": [
    "sns.countplot(x=\"cp\", data=dataset)"
   ]
  },
  {
   "cell_type": "code",
   "execution_count": 20,
   "metadata": {
    "_uuid": "55f9ca01da5294b5404f3eb14d202ae90e0ea1bf"
   },
   "outputs": [
    {
     "data": {
      "text/plain": [
       "count    303.000000\n",
       "mean       0.148515\n",
       "std        0.356198\n",
       "min        0.000000\n",
       "25%        0.000000\n",
       "50%        0.000000\n",
       "75%        0.000000\n",
       "max        1.000000\n",
       "Name: fbs, dtype: float64"
      ]
     },
     "execution_count": 20,
     "metadata": {},
     "output_type": "execute_result"
    }
   ],
   "source": [
    "dataset[\"fbs\"].describe()"
   ]
  },
  {
   "cell_type": "code",
   "execution_count": 21,
   "metadata": {
    "_uuid": "43d491d311a8b96a6a9cbecbeff87f577584cd3a"
   },
   "outputs": [
    {
     "data": {
      "text/plain": [
       "array([1, 0])"
      ]
     },
     "execution_count": 21,
     "metadata": {},
     "output_type": "execute_result"
    }
   ],
   "source": [
    "dataset[\"fbs\"].unique()"
   ]
  },
  {
   "cell_type": "code",
   "execution_count": 22,
   "metadata": {
    "_uuid": "90509dcee97df858115131c771e69347a044aafb"
   },
   "outputs": [
    {
     "data": {
      "text/plain": [
       "<Axes: xlabel='fbs', ylabel='count'>"
      ]
     },
     "execution_count": 22,
     "metadata": {},
     "output_type": "execute_result"
    },
    {
     "data": {
      "image/png": "[encoded data removed]",
      "text/plain": [
       "<Figure size 640x480 with 1 Axes>"
      ]
     },
     "metadata": {},
     "output_type": "display_data"
    }
   ],
   "source": [
    "sns.countplot(x=\"fbs\", data=dataset)"
   ]
  },
  {
   "cell_type": "code",
   "execution_count": 23,
   "metadata": {
    "_uuid": "b12fcc535fe07bc58aa99e97ec9b4e0b01f30a8d"
   },
   "outputs": [
    {
     "data": {
      "text/plain": [
       "array([0, 1, 2])"
      ]
     },
     "execution_count": 23,
     "metadata": {},
     "output_type": "execute_result"
    }
   ],
   "source": [
    "dataset[\"restecg\"].unique()"
   ]
  },
  {
   "cell_type": "code",
   "execution_count": 24,
   "metadata": {
    "_uuid": "ccae9489c2b6e63adb87cef83d367f49ef08a133"
   },
   "outputs": [
    {
     "data": {
      "text/plain": [
       "<Axes: xlabel='restecg', ylabel='count'>"
      ]
     },
     "execution_count": 24,
     "metadata": {},
     "output_type": "execute_result"
    },
    {
     "data": {
      "image/png": "[encoded data removed]",
      "text/plain": [
       "<Figure size 640x480 with 1 Axes>"
      ]
     },
     "metadata": {},
     "output_type": "display_data"
    }
   ],
   "source": [
    "sns.countplot(x=\"restecg\", data=dataset)"
   ]
  },
  {
   "cell_type": "code",
   "execution_count": 25,
   "metadata": {
    "_uuid": "53dd2985ea50aa6f9c9e5931050b4ef7b7aa609d"
   },
   "outputs": [
    {
     "data": {
      "text/plain": [
       "array([0, 1])"
      ]
     },
     "execution_count": 25,
     "metadata": {},
     "output_type": "execute_result"
    }
   ],
   "source": [
    "dataset[\"exang\"].unique()"
   ]
  },
  {
   "cell_type": "code",
   "execution_count": 26,
   "metadata": {
    "_uuid": "237a60a2a11dab86e50cafcee4ec47df752876a1"
   },
   "outputs": [
    {
     "data": {
      "text/plain": [
       "<Axes: xlabel='exang', ylabel='count'>"
      ]
     },
     "execution_count": 26,
     "metadata": {},
     "output_type": "execute_result"
    },
    {
     "data": {
      "image/png": "[encoded data removed]",
      "text/plain": [
       "<Figure size 640x480 with 1 Axes>"
      ]
     },
     "metadata": {},
     "output_type": "display_data"
    }
   ],
   "source": [
    "sns.countplot(x=\"exang\", data=dataset)"
   ]
  },
  {
   "cell_type": "code",
   "execution_count": 27,
   "metadata": {
    "_uuid": "e1e148d25967c36d2bb5fbfb802c70dae93f8a4f"
   },
   "outputs": [
    {
     "data": {
      "text/plain": [
       "array([0, 2, 1])"
      ]
     },
     "execution_count": 27,
     "metadata": {},
     "output_type": "execute_result"
    }
   ],
   "source": [
    "dataset[\"slope\"].unique()"
   ]
  },
  {
   "cell_type": "code",
   "execution_count": 28,
   "metadata": {
    "_uuid": "beaa943c166b3c550fe357e6e937dbda46b707c9"
   },
   "outputs": [
    {
     "data": {
      "text/plain": [
       "<Axes: xlabel='slope', ylabel='count'>"
      ]
     },
     "execution_count": 28,
     "metadata": {},
     "output_type": "execute_result"
    },
    {
     "data": {
      "image/png": "[encoded data removed]",
      "text/plain": [
       "<Figure size 640x480 with 1 Axes>"
      ]
     },
     "metadata": {},
     "output_type": "display_data"
    }
   ],
   "source": [
    "sns.countplot(x=\"slope\", data=dataset)"
   ]
  },
  {
   "cell_type": "code",
   "execution_count": 29,
   "metadata": {
    "_uuid": "a3b7ed6661d24dc399963afbca1e08d79243b431"
   },
   "outputs": [
    {
     "data": {
      "text/plain": [
       "array([0, 2, 1, 3, 4])"
      ]
     },
     "execution_count": 29,
     "metadata": {},
     "output_type": "execute_result"
    }
   ],
   "source": [
    "dataset[\"ca\"].unique()"
   ]
  },
  {
   "cell_type": "code",
   "execution_count": 30,
   "metadata": {
    "_uuid": "f463859906d0287c68152ebe3cadc241e569802c"
   },
   "outputs": [
    {
     "data": {
      "text/plain": [
       "<Axes: xlabel='ca', ylabel='count'>"
      ]
     },
     "execution_count": 30,
     "metadata": {},
     "output_type": "execute_result"
    },
    {
     "data": {
      "image/png": "[encoded data removed]",
      "text/plain": [
       "<Figure size 640x480 with 1 Axes>"
      ]
     },
     "metadata": {},
     "output_type": "display_data"
    }
   ],
   "source": [
    "sns.countplot(x=\"ca\", data=dataset)"
   ]
  },
  {
   "cell_type": "code",
   "execution_count": 31,
   "metadata": {
    "_uuid": "16eaf9a5f7433be2028369818aa54e2bf01e544e"
   },
   "outputs": [
    {
     "data": {
      "text/plain": [
       "array([1, 2, 3, 0])"
      ]
     },
     "execution_count": 31,
     "metadata": {},
     "output_type": "execute_result"
    }
   ],
   "source": [
    "dataset[\"thal\"].unique()"
   ]
  },
  {
   "cell_type": "code",
   "execution_count": 32,
   "metadata": {
    "_uuid": "08947d9c4b05d68b2fe5ae70e33566063c44f8d4"
   },
   "outputs": [
    {
     "data": {
      "text/plain": [
       "<Axes: xlabel='thal', ylabel='count'>"
      ]
     },
     "execution_count": 32,
     "metadata": {},
     "output_type": "execute_result"
    },
    {
     "data": {
      "image/png": "[encoded data removed]",
      "text/plain": [
       "<Figure size 640x480 with 1 Axes>"
      ]
     },
     "metadata": {},
     "output_type": "display_data"
    }
   ],
   "source": [
    "sns.countplot(x=\"thal\", data=dataset)"
   ]
  },
  {
   "cell_type": "code",
   "execution_count": 33,
   "metadata": {
    "_uuid": "dc84bb1643cbed20e8ac5980db59ffd54d5b581c"
   },
   "outputs": [
    {
     "data": {
      "text/plain": [
       "<Axes: xlabel='thal', ylabel='Density'>"
      ]
     },
     "execution_count": 33,
     "metadata": {},
     "output_type": "execute_result"
    },
    {
     "data": {
      "image/png": "[encoded data removed]",
      "text/plain": [
       "<Figure size 640x480 with 1 Axes>"
      ]
     },
     "metadata": {},
     "output_type": "display_data"
    }
   ],
   "source": [
    "sns.distplot(dataset[\"thal\"])"
   ]
  },
  {
   "cell_type": "code",
   "execution_count": 34,
   "metadata": {
    "_uuid": "829fcda5b63e1b9f7ecb7762e8ca617166533aca"
   },
   "outputs": [],
   "source": [
    "predictors = dataset.drop(\"target\", axis=1)\n",
    "target = dataset[\"target\"]\n",
    "\n",
    "X_train, X_test, Y_train, Y_test = train_test_split(\n",
    "    predictors, target, test_size=0.20, random_state=0)"
   ]
  },
  {
   "cell_type": "code",
   "execution_count": 35,
   "metadata": {
    "_uuid": "7a74842015c2f193d16caa4fa25e2c4cbf1940f8"
   },
   "outputs": [
    {
     "data": {
      "text/plain": [
       "(242, 13)"
      ]
     },
     "execution_count": 35,
     "metadata": {},
     "output_type": "execute_result"
    }
   ],
   "source": [
    "X_train.shape"
   ]
  },
  {
   "cell_type": "code",
   "execution_count": 36,
   "metadata": {
    "_uuid": "1f777652df4521deb877dac4d5d635d8cd35b279"
   },
   "outputs": [
    {
     "data": {
      "text/plain": [
       "(61, 13)"
      ]
     },
     "execution_count": 36,
     "metadata": {},
     "output_type": "execute_result"
    }
   ],
   "source": [
    "X_test.shape"
   ]
  },
  {
   "cell_type": "code",
   "execution_count": 37,
   "metadata": {
    "_uuid": "028c968a076840657faf7dbc3bfee9fe7b5ca45a"
   },
   "outputs": [
    {
     "data": {
      "text/plain": [
       "(242,)"
      ]
     },
     "execution_count": 37,
     "metadata": {},
     "output_type": "execute_result"
    }
   ],
   "source": [
    "Y_train.shape"
   ]
  },
  {
   "cell_type": "code",
   "execution_count": 38,
   "metadata": {
    "_uuid": "eb6857dfc18da52dae38bec95d20106f39136e61"
   },
   "outputs": [
    {
     "data": {
      "text/plain": [
       "(61,)"
      ]
     },
     "execution_count": 38,
     "metadata": {},
     "output_type": "execute_result"
    }
   ],
   "source": [
    "Y_test.shape"
   ]
  },
  {
   "cell_type": "markdown",
   "metadata": {
    "_uuid": "afa6b322cbc225f3353bd295aea24fe5fbbb78fe"
   },
   "source": [
    "### Logistic Regression"
   ]
  },
  {
   "cell_type": "code",
   "execution_count": 39,
   "metadata": {
    "_uuid": "9aea2f597203ccf38cd0d67ae58bff6e163dea1c"
   },
   "outputs": [],
   "source": [
    "lr = LogisticRegression()\n",
    "\n",
    "lr.fit(X_train, Y_train)\n",
    "\n",
    "Y_pred_lr = lr.predict(X_test)"
   ]
  },
  {
   "cell_type": "code",
   "execution_count": 40,
   "metadata": {
    "_uuid": "58fb833d1c74355ebdafe926968632942f377421"
   },
   "outputs": [
    {
     "data": {
      "text/plain": [
       "(61,)"
      ]
     },
     "execution_count": 40,
     "metadata": {},
     "output_type": "execute_result"
    }
   ],
   "source": [
    "Y_pred_lr.shape"
   ]
  },
  {
   "cell_type": "code",
   "execution_count": 41,
   "metadata": {
    "_uuid": "ee4cba838316adf863f8daf131d36a970d36b839"
   },
   "outputs": [
    {
     "name": "stdout",
     "output_type": "stream",
     "text": [
      "The accuracy score achieved using Logistic Regression is: 85.25 %\n"
     ]
    }
   ],
   "source": [
    "score_lr = round(accuracy_score(Y_pred_lr, Y_test)*100, 2)\n",
    "\n",
    "print(\"The accuracy score achieved using Logistic Regression is: \"+str(score_lr)+\" %\")"
   ]
  },
  {
   "cell_type": "markdown",
   "metadata": {
    "_uuid": "4f92fceb9584ae03d3ab370ee11899cb287be690"
   },
   "source": [
    "### Naive Bayes"
   ]
  },
  {
   "cell_type": "code",
   "execution_count": 42,
   "metadata": {
    "_uuid": "ffcdab99b4108902547f0179a242a9757078dc68"
   },
   "outputs": [],
   "source": [
    "nb = GaussianNB()\n",
    "\n",
    "nb.fit(X_train, Y_train)\n",
    "\n",
    "Y_pred_nb = nb.predict(X_test)"
   ]
  },
  {
   "cell_type": "code",
   "execution_count": 43,
   "metadata": {
    "_uuid": "9109059d06e4c92494451b3cdab0bbb5a1816072"
   },
   "outputs": [
    {
     "data": {
      "text/plain": [
       "(61,)"
      ]
     },
     "execution_count": 43,
     "metadata": {},
     "output_type": "execute_result"
    }
   ],
   "source": [
    "Y_pred_nb.shape"
   ]
  },
  {
   "cell_type": "code",
   "execution_count": 44,
   "metadata": {
    "_uuid": "e8f8f55db061ada0b669ffa46e9ecc745fcda1ae"
   },
   "outputs": [
    {
     "name": "stdout",
     "output_type": "stream",
     "text": [
      "The accuracy score achieved using Naive Bayes is: 85.25 %\n"
     ]
    }
   ],
   "source": [
    "score_nb = round(accuracy_score(Y_pred_nb, Y_test)*100, 2)\n",
    "\n",
    "print(\"The accuracy score achieved using Naive Bayes is: \"+str(score_nb)+\" %\")"
   ]
  },
  {
   "cell_type": "markdown",
   "metadata": {
    "_uuid": "2af8b010893284bae0d6cccf66ccfda646e7ca58"
   },
   "source": [
    "### SVM"
   ]
  },
  {
   "cell_type": "code",
   "execution_count": 45,
   "metadata": {
    "_uuid": "f1936ece7b76b67e552758a4c80e9421bffe0bc2"
   },
   "outputs": [],
   "source": [
    "sv = svm.SVC(kernel='linear')\n",
    "\n",
    "sv.fit(X_train, Y_train)\n",
    "\n",
    "Y_pred_svm = sv.predict(X_test)"
   ]
  },
  {
   "cell_type": "code",
   "execution_count": 46,
   "metadata": {
    "_uuid": "36f60f104264d44760705b9c802504f426e15592"
   },
   "outputs": [
    {
     "data": {
      "text/plain": [
       "(61,)"
      ]
     },
     "execution_count": 46,
     "metadata": {},
     "output_type": "execute_result"
    }
   ],
   "source": [
    "Y_pred_svm.shape"
   ]
  },
  {
   "cell_type": "code",
   "execution_count": 47,
   "metadata": {
    "_uuid": "f5a73bca6721f42b3983c328fd475390ba9bc4d3"
   },
   "outputs": [
    {
     "name": "stdout",
     "output_type": "stream",
     "text": [
      "The accuracy score achieved using Linear SVM is: 81.97 %\n"
     ]
    }
   ],
   "source": [
    "score_svm = round(accuracy_score(Y_pred_svm, Y_test)*100, 2)\n",
    "print(\"The accuracy score achieved using Linear SVM is: \"+str(score_svm)+\" %\")"
   ]
  },
  {
   "cell_type": "markdown",
   "metadata": {
    "_uuid": "4e26d165b57f3f7882570964f1c2dc4a548404de"
   },
   "source": [
    "### K Nearest Neighbors"
   ]
  },
  {
   "cell_type": "code",
   "execution_count": 48,
   "metadata": {
    "_uuid": "286352867c53d5fb7dac2fc9bf4b2ac58a466ad0"
   },
   "outputs": [],
   "source": [
    "knn = KNeighborsClassifier(n_neighbors=7)\n",
    "knn.fit(X_train, Y_train)\n",
    "Y_pred_knn = knn.predict(X_test)"
   ]
  },
  {
   "cell_type": "code",
   "execution_count": 49,
   "metadata": {
    "_uuid": "bccb7c1fcec36dd2eb7eb222f49604029adec2b4"
   },
   "outputs": [
    {
     "data": {
      "text/plain": [
       "(61,)"
      ]
     },
     "execution_count": 49,
     "metadata": {},
     "output_type": "execute_result"
    }
   ],
   "source": [
    "Y_pred_knn.shape"
   ]
  },
  {
   "cell_type": "code",
   "execution_count": 50,
   "metadata": {
    "_uuid": "dda4e8f8f18f96557cdd38cee177de0456db5f45"
   },
   "outputs": [
    {
     "name": "stdout",
     "output_type": "stream",
     "text": [
      "The accuracy score achieved using KNN is: 67.21 %\n"
     ]
    }
   ],
   "source": [
    "score_knn = round(accuracy_score(Y_pred_knn, Y_test)*100, 2)\n",
    "\n",
    "print(\"The accuracy score achieved using KNN is: \"+str(score_knn)+\" %\")"
   ]
  },
  {
   "cell_type": "markdown",
   "metadata": {
    "_uuid": "abb767170c662e4d9a8b240fd0fd7286ffb0b67f"
   },
   "source": [
    "### Decision Tree"
   ]
  },
  {
   "cell_type": "code",
   "execution_count": 51,
   "metadata": {
    "_uuid": "8c141316764dce80103d1879c9b17d853702a746"
   },
   "outputs": [],
   "source": [
    "max_accuracy = 0\n",
    "\n",
    "\n",
    "for x in range(200):\n",
    "    dt = DecisionTreeClassifier(random_state=x)\n",
    "    dt.fit(X_train, Y_train)\n",
    "    Y_pred_dt = dt.predict(X_test)\n",
    "    current_accuracy = round(accuracy_score(Y_pred_dt, Y_test)*100, 2)\n",
    "    if (current_accuracy > max_accuracy):\n",
    "        max_accuracy = current_accuracy\n",
    "        best_x = x\n",
    "\n",
    "# print(max_accuracy)\n",
    "# print(best_x)\n",
    "\n",
    "\n",
    "dt = DecisionTreeClassifier(random_state=best_x)\n",
    "dt.fit(X_train, Y_train)\n",
    "Y_pred_dt = dt.predict(X_test)"
   ]
  },
  {
   "cell_type": "code",
   "execution_count": 52,
   "metadata": {
    "_uuid": "8de0bd2d57abd24d3a97a5b020a24439eb106f2b"
   },
   "outputs": [
    {
     "name": "stdout",
     "output_type": "stream",
     "text": [
      "(61,)\n"
     ]
    }
   ],
   "source": [
    "print(Y_pred_dt.shape)"
   ]
  },
  {
   "cell_type": "code",
   "execution_count": 53,
   "metadata": {
    "_uuid": "52ab93482d3b53824e9bc2b3e4114c57253e0c5b"
   },
   "outputs": [
    {
     "name": "stdout",
     "output_type": "stream",
     "text": [
      "The accuracy score achieved using Decision Tree is: 81.97 %\n"
     ]
    }
   ],
   "source": [
    "score_dt = round(accuracy_score(Y_pred_dt, Y_test)*100, 2)\n",
    "\n",
    "print(\"The accuracy score achieved using Decision Tree is: \"+str(score_dt)+\" %\")"
   ]
  },
  {
   "cell_type": "markdown",
   "metadata": {
    "_uuid": "9e663d26efb00a434751f06ad0292949eff6c358"
   },
   "source": [
    "### Random Forest"
   ]
  },
  {
   "cell_type": "code",
   "execution_count": 54,
   "metadata": {
    "_uuid": "8284f5222cf90be1bcd37887c45f91cf22ed1193"
   },
   "outputs": [
    {
     "name": "stdout",
     "output_type": "stream",
     "text": [
      "90.16\n",
      "323\n"
     ]
    }
   ],
   "source": [
    "max_accuracy = 0\n",
    "\n",
    "\n",
    "for x in range(2000):\n",
    "    rf = RandomForestClassifier(random_state=x)\n",
    "    rf.fit(X_train, Y_train)\n",
    "    Y_pred_rf = rf.predict(X_test)\n",
    "    current_accuracy = round(accuracy_score(Y_pred_rf, Y_test)*100, 2)\n",
    "    if (current_accuracy > max_accuracy):\n",
    "        max_accuracy = current_accuracy\n",
    "        best_x = x\n",
    "\n",
    "print(max_accuracy)\n",
    "print(best_x)\n",
    "\n",
    "rf = RandomForestClassifier(random_state=best_x)\n",
    "rf.fit(X_train, Y_train)\n",
    "Y_pred_rf = rf.predict(X_test)"
   ]
  },
  {
   "cell_type": "code",
   "execution_count": 55,
   "metadata": {
    "_uuid": "edc8e1cbb57be0aa9e9ad5f4997212d53a9a4c99"
   },
   "outputs": [
    {
     "data": {
      "text/plain": [
       "(61,)"
      ]
     },
     "execution_count": 55,
     "metadata": {},
     "output_type": "execute_result"
    }
   ],
   "source": [
    "Y_pred_rf.shape"
   ]
  },
  {
   "cell_type": "code",
   "execution_count": 56,
   "metadata": {
    "_uuid": "965228f30e05e07e7960a3375dc7dc85b49caed7"
   },
   "outputs": [
    {
     "name": "stdout",
     "output_type": "stream",
     "text": [
      "The accuracy score achieved using Random Forest is: 90.16 %\n"
     ]
    }
   ],
   "source": [
    "score_rf = round(accuracy_score(Y_pred_rf, Y_test)*100, 2)\n",
    "\n",
    "print(\"The accuracy score achieved using Random Forest is: \"+str(score_rf)+\" %\")"
   ]
  },
  {
   "cell_type": "markdown",
   "metadata": {
    "_uuid": "6a0fc13a6c2fccd6a725a7691cfe95d74348a8ae"
   },
   "source": [
    "### XGBoost"
   ]
  },
  {
   "cell_type": "code",
   "execution_count": 57,
   "metadata": {
    "_uuid": "5a437f3c0e190887e2192ecb1844eaa6eb1d34a7"
   },
   "outputs": [],
   "source": [
    "xgb_model = xgb.XGBClassifier(objective=\"binary:logistic\", random_state=42)\n",
    "xgb_model.fit(X_train, Y_train)\n",
    "\n",
    "Y_pred_xgb = xgb_model.predict(X_test)"
   ]
  },
  {
   "cell_type": "code",
   "execution_count": 58,
   "metadata": {
    "_uuid": "168d52cd705f2abb6763107328c984e4252c618e"
   },
   "outputs": [
    {
     "data": {
      "text/plain": [
       "(61,)"
      ]
     },
     "execution_count": 58,
     "metadata": {},
     "output_type": "execute_result"
    }
   ],
   "source": [
    "Y_pred_xgb.shape"
   ]
  },
  {
   "cell_type": "code",
   "execution_count": 59,
   "metadata": {
    "_uuid": "319c4f0d2e62b03c95a48df0ecc33b15e7fa7f39"
   },
   "outputs": [
    {
     "name": "stdout",
     "output_type": "stream",
     "text": [
      "The accuracy score achieved using XGBoost is: 78.69 %\n"
     ]
    }
   ],
   "source": [
    "score_xgb = round(accuracy_score(Y_pred_xgb, Y_test)*100, 2)\n",
    "\n",
    "print(\"The accuracy score achieved using XGBoost is: \"+str(score_xgb)+\" %\")"
   ]
  },
  {
   "cell_type": "markdown",
   "metadata": {
    "_uuid": "e224ab23f275a3a56cdba6a9ccfddbd6a4d3b4fd"
   },
   "source": [
    "### Neural Network"
   ]
  },
  {
   "cell_type": "code",
   "execution_count": 60,
   "metadata": {
    "_uuid": "650f1baa7db466923626c707408319fa29f22d10"
   },
   "outputs": [
    {
     "name": "stdout",
     "output_type": "stream",
     "text": [
      "Metal device set to: Apple M1\n",
      "\n",
      "systemMemory: 8.00 GB\n",
      "maxCacheSize: 2.67 GB\n",
      "\n"
     ]
    },
    {
     "name": "stderr",
     "output_type": "stream",
     "text": [
      "2023-04-20 14:06:26.311647: W tensorflow/tsl/platform/profile_utils/cpu_utils.cc:128] Failed to get CPU frequency: 0 Hz\n"
     ]
    },
    {
     "name": "stdout",
     "output_type": "stream",
     "text": [
      "2/2 [==============================] - 0s 32ms/step\n",
      "The accuracy score achieved using TensorFlow is: 81.97 %\n"
     ]
    }
   ],
   "source": [
    "model = tf.keras.Sequential([\n",
    "    tf.keras.layers.Dense(256, activation='relu', input_shape=(13,)),\n",
    "    tf.keras.layers.Dense(128, activation='relu'),\n",
    "    tf.keras.layers.Dense(64, activation='relu'),\n",
    "    tf.keras.layers.Dense(32, activation='relu'),\n",
    "    tf.keras.layers.Dense(16, activation='relu'),\n",
    "    tf.keras.layers.Dense(1, activation='sigmoid')\n",
    "])\n",
    "\n",
    "model.compile(optimizer='adam',\n",
    "              loss='binary_crossentropy',\n",
    "              metrics=['accuracy'])\n",
    "\n",
    "history = model.fit(X_train, Y_train, epochs=100, batch_size=16, verbose=0)\n",
    "\n",
    "Y_pred_tf = model.predict(X_test)\n",
    "Y_pred_tf = (Y_pred_tf > 0.5)\n",
    "\n",
    "score_tf = round(accuracy_score(Y_pred_tf, Y_test)*100, 2)\n",
    "\n",
    "print(\"The accuracy score achieved using TensorFlow is: \" + str(score_tf)+\" %\")"
   ]
  },
  {
   "cell_type": "code",
   "execution_count": 61,
   "metadata": {
    "_uuid": "dde4e50b5c4c24c73b03133fc7c90bf663fd6d82"
   },
   "outputs": [
    {
     "name": "stdout",
     "output_type": "stream",
     "text": [
      "Epoch 1/300\n",
      "8/8 [==============================] - 0s 27ms/step - loss: 0.3832 - accuracy: 0.8388\n",
      "Epoch 2/300\n",
      "8/8 [==============================] - 0s 10ms/step - loss: 0.3604 - accuracy: 0.8388\n",
      "Epoch 3/300\n",
      "8/8 [==============================] - 0s 10ms/step - loss: 0.3350 - accuracy: 0.8636\n",
      "Epoch 4/300\n",
      "8/8 [==============================] - 0s 11ms/step - loss: 0.3358 - accuracy: 0.8595\n",
      "Epoch 5/300\n",
      "8/8 [==============================] - 0s 9ms/step - loss: 0.3321 - accuracy: 0.8719\n",
      "Epoch 6/300\n",
      "8/8 [==============================] - 0s 10ms/step - loss: 0.3257 - accuracy: 0.8554\n",
      "Epoch 7/300\n",
      "8/8 [==============================] - 0s 9ms/step - loss: 0.3197 - accuracy: 0.8719\n",
      "Epoch 8/300\n",
      "8/8 [==============================] - 0s 10ms/step - loss: 0.3201 - accuracy: 0.8471\n",
      "Epoch 9/300\n",
      "8/8 [==============================] - 0s 10ms/step - loss: 0.3436 - accuracy: 0.8678\n",
      "Epoch 10/300\n",
      "8/8 [==============================] - 0s 10ms/step - loss: 0.3407 - accuracy: 0.8306\n",
      "Epoch 11/300\n",
      "8/8 [==============================] - 0s 10ms/step - loss: 0.3481 - accuracy: 0.8595\n",
      "Epoch 12/300\n",
      "8/8 [==============================] - 0s 12ms/step - loss: 0.3449 - accuracy: 0.8306\n",
      "Epoch 13/300\n",
      "8/8 [==============================] - 0s 9ms/step - loss: 0.3198 - accuracy: 0.8430\n",
      "Epoch 14/300\n",
      "8/8 [==============================] - 0s 10ms/step - loss: 0.3229 - accuracy: 0.8636\n",
      "Epoch 15/300\n",
      "8/8 [==============================] - 0s 11ms/step - loss: 0.3135 - accuracy: 0.8636\n",
      "Epoch 16/300\n",
      "8/8 [==============================] - 0s 11ms/step - loss: 0.3127 - accuracy: 0.8554\n",
      "Epoch 17/300\n",
      "8/8 [==============================] - 0s 10ms/step - loss: 0.3084 - accuracy: 0.8554\n",
      "Epoch 18/300\n",
      "8/8 [==============================] - 0s 9ms/step - loss: 0.3118 - accuracy: 0.8512\n",
      "Epoch 19/300\n",
      "8/8 [==============================] - 0s 9ms/step - loss: 0.3082 - accuracy: 0.8760\n",
      "Epoch 20/300\n",
      "8/8 [==============================] - 0s 10ms/step - loss: 0.3174 - accuracy: 0.8636\n",
      "Epoch 21/300\n",
      "8/8 [==============================] - 0s 11ms/step - loss: 0.3186 - accuracy: 0.8760\n",
      "Epoch 22/300\n",
      "8/8 [==============================] - 0s 10ms/step - loss: 0.3282 - accuracy: 0.8554\n",
      "Epoch 23/300\n",
      "8/8 [==============================] - 0s 12ms/step - loss: 0.3183 - accuracy: 0.8430\n",
      "Epoch 24/300\n",
      "8/8 [==============================] - 0s 15ms/step - loss: 0.3116 - accuracy: 0.8554\n",
      "Epoch 25/300\n",
      "8/8 [==============================] - 0s 13ms/step - loss: 0.3045 - accuracy: 0.8595\n",
      "Epoch 26/300\n",
      "8/8 [==============================] - 0s 10ms/step - loss: 0.3043 - accuracy: 0.8678\n",
      "Epoch 27/300\n",
      "8/8 [==============================] - 0s 10ms/step - loss: 0.2985 - accuracy: 0.8554\n",
      "Epoch 28/300\n",
      "8/8 [==============================] - 0s 10ms/step - loss: 0.3065 - accuracy: 0.8678\n",
      "Epoch 29/300\n",
      "8/8 [==============================] - 0s 10ms/step - loss: 0.3073 - accuracy: 0.8512\n",
      "Epoch 30/300\n",
      "8/8 [==============================] - 0s 10ms/step - loss: 0.3204 - accuracy: 0.8471\n",
      "Epoch 31/300\n",
      "8/8 [==============================] - 0s 10ms/step - loss: 0.3270 - accuracy: 0.8636\n",
      "Epoch 32/300\n",
      "8/8 [==============================] - 0s 10ms/step - loss: 0.2981 - accuracy: 0.8802\n",
      "Epoch 33/300\n",
      "8/8 [==============================] - 0s 10ms/step - loss: 0.2993 - accuracy: 0.8719\n",
      "Epoch 34/300\n",
      "8/8 [==============================] - 0s 12ms/step - loss: 0.3084 - accuracy: 0.8512\n",
      "Epoch 35/300\n",
      "8/8 [==============================] - 0s 14ms/step - loss: 0.3076 - accuracy: 0.8554\n",
      "Epoch 36/300\n",
      "8/8 [==============================] - 0s 9ms/step - loss: 0.3047 - accuracy: 0.8471\n",
      "Epoch 37/300\n",
      "8/8 [==============================] - 0s 10ms/step - loss: 0.3606 - accuracy: 0.8306\n",
      "Epoch 38/300\n",
      "8/8 [==============================] - 0s 11ms/step - loss: 0.3152 - accuracy: 0.8554\n",
      "Epoch 39/300\n",
      "8/8 [==============================] - 0s 10ms/step - loss: 0.2993 - accuracy: 0.8554\n",
      "Epoch 40/300\n",
      "8/8 [==============================] - 0s 10ms/step - loss: 0.2974 - accuracy: 0.8595\n",
      "Epoch 41/300\n",
      "8/8 [==============================] - 0s 10ms/step - loss: 0.2901 - accuracy: 0.8760\n",
      "Epoch 42/300\n",
      "8/8 [==============================] - 0s 10ms/step - loss: 0.2873 - accuracy: 0.8678\n",
      "Epoch 43/300\n",
      "8/8 [==============================] - 0s 10ms/step - loss: 0.2822 - accuracy: 0.8802\n",
      "Epoch 44/300\n",
      "8/8 [==============================] - 0s 10ms/step - loss: 0.2962 - accuracy: 0.8554\n",
      "Epoch 45/300\n",
      "8/8 [==============================] - 0s 10ms/step - loss: 0.2917 - accuracy: 0.8719\n",
      "Epoch 46/300\n",
      "8/8 [==============================] - 0s 9ms/step - loss: 0.2907 - accuracy: 0.8719\n",
      "Epoch 47/300\n",
      "8/8 [==============================] - 0s 10ms/step - loss: 0.2809 - accuracy: 0.8719\n",
      "Epoch 48/300\n",
      "8/8 [==============================] - 0s 10ms/step - loss: 0.2882 - accuracy: 0.8636\n",
      "Epoch 49/300\n",
      "8/8 [==============================] - 0s 10ms/step - loss: 0.3061 - accuracy: 0.8471\n",
      "Epoch 50/300\n",
      "8/8 [==============================] - 0s 11ms/step - loss: 0.3094 - accuracy: 0.8554\n",
      "Epoch 51/300\n",
      "8/8 [==============================] - 0s 14ms/step - loss: 0.2841 - accuracy: 0.8760\n",
      "Epoch 52/300\n",
      "8/8 [==============================] - 0s 12ms/step - loss: 0.2791 - accuracy: 0.8802\n",
      "Epoch 53/300\n",
      "8/8 [==============================] - 0s 12ms/step - loss: 0.2834 - accuracy: 0.8719\n",
      "Epoch 54/300\n",
      "8/8 [==============================] - 0s 9ms/step - loss: 0.2827 - accuracy: 0.8884\n",
      "Epoch 55/300\n",
      "8/8 [==============================] - 0s 10ms/step - loss: 0.2734 - accuracy: 0.8884\n",
      "Epoch 56/300\n",
      "8/8 [==============================] - 0s 11ms/step - loss: 0.2752 - accuracy: 0.8595\n",
      "Epoch 57/300\n",
      "8/8 [==============================] - 0s 10ms/step - loss: 0.2678 - accuracy: 0.8884\n",
      "Epoch 58/300\n",
      "8/8 [==============================] - 0s 9ms/step - loss: 0.2697 - accuracy: 0.8843\n",
      "Epoch 59/300\n",
      "8/8 [==============================] - 0s 10ms/step - loss: 0.3159 - accuracy: 0.8388\n",
      "Epoch 60/300\n",
      "8/8 [==============================] - 0s 10ms/step - loss: 0.3252 - accuracy: 0.8595\n",
      "Epoch 61/300\n",
      "8/8 [==============================] - 0s 11ms/step - loss: 0.2841 - accuracy: 0.8760\n",
      "Epoch 62/300\n",
      "8/8 [==============================] - 0s 10ms/step - loss: 0.2925 - accuracy: 0.8678\n",
      "Epoch 63/300\n",
      "8/8 [==============================] - 0s 10ms/step - loss: 0.2677 - accuracy: 0.8719\n",
      "Epoch 64/300\n",
      "8/8 [==============================] - 0s 10ms/step - loss: 0.3115 - accuracy: 0.8471\n",
      "Epoch 65/300\n",
      "8/8 [==============================] - 0s 10ms/step - loss: 0.3483 - accuracy: 0.8306\n",
      "Epoch 66/300\n",
      "8/8 [==============================] - 0s 10ms/step - loss: 0.3270 - accuracy: 0.8678\n",
      "Epoch 67/300\n",
      "8/8 [==============================] - 0s 13ms/step - loss: 0.2744 - accuracy: 0.8760\n",
      "Epoch 68/300\n",
      "8/8 [==============================] - 0s 10ms/step - loss: 0.2913 - accuracy: 0.8802\n",
      "Epoch 69/300\n",
      "8/8 [==============================] - 0s 11ms/step - loss: 0.3011 - accuracy: 0.8512\n",
      "Epoch 70/300\n",
      "8/8 [==============================] - 0s 9ms/step - loss: 0.2837 - accuracy: 0.8719\n",
      "Epoch 71/300\n",
      "8/8 [==============================] - 0s 10ms/step - loss: 0.2656 - accuracy: 0.8760\n",
      "Epoch 72/300\n",
      "8/8 [==============================] - 0s 10ms/step - loss: 0.2699 - accuracy: 0.8843\n",
      "Epoch 73/300\n",
      "8/8 [==============================] - 0s 11ms/step - loss: 0.2941 - accuracy: 0.8636\n",
      "Epoch 74/300\n",
      "8/8 [==============================] - 0s 10ms/step - loss: 0.2854 - accuracy: 0.8512\n",
      "Epoch 75/300\n",
      "8/8 [==============================] - 0s 11ms/step - loss: 0.2811 - accuracy: 0.8719\n",
      "Epoch 76/300\n",
      "8/8 [==============================] - 0s 10ms/step - loss: 0.2775 - accuracy: 0.8678\n",
      "Epoch 77/300\n",
      "8/8 [==============================] - 0s 9ms/step - loss: 0.2969 - accuracy: 0.8471\n",
      "Epoch 78/300\n",
      "8/8 [==============================] - 0s 10ms/step - loss: 0.2968 - accuracy: 0.8512\n",
      "Epoch 79/300\n",
      "8/8 [==============================] - 0s 10ms/step - loss: 0.2930 - accuracy: 0.8430\n",
      "Epoch 80/300\n",
      "8/8 [==============================] - 0s 10ms/step - loss: 0.3007 - accuracy: 0.8678\n",
      "Epoch 81/300\n",
      "8/8 [==============================] - 0s 10ms/step - loss: 0.3179 - accuracy: 0.8636\n",
      "Epoch 82/300\n",
      "8/8 [==============================] - 0s 10ms/step - loss: 0.2635 - accuracy: 0.8884\n",
      "Epoch 83/300\n",
      "8/8 [==============================] - 0s 13ms/step - loss: 0.2874 - accuracy: 0.8678\n",
      "Epoch 84/300\n",
      "8/8 [==============================] - 0s 9ms/step - loss: 0.3225 - accuracy: 0.8430\n",
      "Epoch 85/300\n",
      "8/8 [==============================] - 0s 10ms/step - loss: 0.2948 - accuracy: 0.8595\n",
      "Epoch 86/300\n",
      "8/8 [==============================] - 0s 10ms/step - loss: 0.3373 - accuracy: 0.8471\n",
      "Epoch 87/300\n",
      "8/8 [==============================] - 0s 10ms/step - loss: 0.3281 - accuracy: 0.8347\n",
      "Epoch 88/300\n",
      "8/8 [==============================] - 0s 10ms/step - loss: 0.2825 - accuracy: 0.8719\n",
      "Epoch 89/300\n",
      "8/8 [==============================] - 0s 9ms/step - loss: 0.2669 - accuracy: 0.8719\n",
      "Epoch 90/300\n",
      "8/8 [==============================] - 0s 11ms/step - loss: 0.3334 - accuracy: 0.8347\n",
      "Epoch 91/300\n",
      "8/8 [==============================] - 0s 9ms/step - loss: 0.2987 - accuracy: 0.8678\n",
      "Epoch 92/300\n",
      "8/8 [==============================] - 0s 9ms/step - loss: 0.2967 - accuracy: 0.8595\n",
      "Epoch 93/300\n",
      "8/8 [==============================] - 0s 9ms/step - loss: 0.3010 - accuracy: 0.8554\n",
      "Epoch 94/300\n",
      "8/8 [==============================] - 0s 10ms/step - loss: 0.2811 - accuracy: 0.8636\n",
      "Epoch 95/300\n",
      "8/8 [==============================] - 0s 10ms/step - loss: 0.2748 - accuracy: 0.8760\n",
      "Epoch 96/300\n",
      "8/8 [==============================] - 0s 10ms/step - loss: 0.2757 - accuracy: 0.8802\n",
      "Epoch 97/300\n",
      "8/8 [==============================] - 0s 10ms/step - loss: 0.2829 - accuracy: 0.8802\n",
      "Epoch 98/300\n",
      "8/8 [==============================] - 0s 10ms/step - loss: 0.3090 - accuracy: 0.8512\n",
      "Epoch 99/300\n",
      "8/8 [==============================] - 0s 13ms/step - loss: 0.2717 - accuracy: 0.8760\n",
      "Epoch 100/300\n",
      "8/8 [==============================] - 0s 10ms/step - loss: 0.2603 - accuracy: 0.8843\n",
      "Epoch 101/300\n",
      "8/8 [==============================] - 0s 9ms/step - loss: 0.2443 - accuracy: 0.9050\n",
      "Epoch 102/300\n",
      "8/8 [==============================] - 0s 9ms/step - loss: 0.2519 - accuracy: 0.8843\n",
      "Epoch 103/300\n",
      "8/8 [==============================] - 0s 9ms/step - loss: 0.2596 - accuracy: 0.8843\n",
      "Epoch 104/300\n",
      "8/8 [==============================] - 0s 9ms/step - loss: 0.2532 - accuracy: 0.8967\n",
      "Epoch 105/300\n",
      "8/8 [==============================] - 0s 11ms/step - loss: 0.2985 - accuracy: 0.8471\n",
      "Epoch 106/300\n",
      "8/8 [==============================] - 0s 10ms/step - loss: 0.2767 - accuracy: 0.8678\n",
      "Epoch 107/300\n",
      "8/8 [==============================] - 0s 9ms/step - loss: 0.2599 - accuracy: 0.8926\n",
      "Epoch 108/300\n",
      "8/8 [==============================] - 0s 10ms/step - loss: 0.2470 - accuracy: 0.8719\n",
      "Epoch 109/300\n",
      "8/8 [==============================] - 0s 9ms/step - loss: 0.2285 - accuracy: 0.8926\n",
      "Epoch 110/300\n",
      "8/8 [==============================] - 0s 10ms/step - loss: 0.2859 - accuracy: 0.8884\n",
      "Epoch 111/300\n",
      "8/8 [==============================] - 0s 10ms/step - loss: 0.2644 - accuracy: 0.8843\n",
      "Epoch 112/300\n",
      "8/8 [==============================] - 0s 12ms/step - loss: 0.2639 - accuracy: 0.8636\n",
      "Epoch 113/300\n",
      "8/8 [==============================] - 0s 9ms/step - loss: 0.2596 - accuracy: 0.8884\n",
      "Epoch 114/300\n",
      "8/8 [==============================] - 0s 10ms/step - loss: 0.2545 - accuracy: 0.8802\n",
      "Epoch 115/300\n",
      "8/8 [==============================] - 0s 13ms/step - loss: 0.2845 - accuracy: 0.8512\n",
      "Epoch 116/300\n",
      "8/8 [==============================] - 0s 9ms/step - loss: 0.2798 - accuracy: 0.8926\n",
      "Epoch 117/300\n",
      "8/8 [==============================] - 0s 10ms/step - loss: 0.2607 - accuracy: 0.8843\n",
      "Epoch 118/300\n",
      "8/8 [==============================] - 0s 10ms/step - loss: 0.2568 - accuracy: 0.8967\n",
      "Epoch 119/300\n",
      "8/8 [==============================] - 0s 10ms/step - loss: 0.3051 - accuracy: 0.8388\n",
      "Epoch 120/300\n",
      "8/8 [==============================] - 0s 11ms/step - loss: 0.3296 - accuracy: 0.8264\n",
      "Epoch 121/300\n",
      "8/8 [==============================] - 0s 10ms/step - loss: 0.2890 - accuracy: 0.8512\n",
      "Epoch 122/300\n",
      "8/8 [==============================] - 0s 10ms/step - loss: 0.2491 - accuracy: 0.8760\n",
      "Epoch 123/300\n",
      "8/8 [==============================] - 0s 10ms/step - loss: 0.2438 - accuracy: 0.8967\n",
      "Epoch 124/300\n",
      "8/8 [==============================] - 0s 10ms/step - loss: 0.2502 - accuracy: 0.8843\n",
      "Epoch 125/300\n",
      "8/8 [==============================] - 0s 10ms/step - loss: 0.2902 - accuracy: 0.8719\n",
      "Epoch 126/300\n",
      "8/8 [==============================] - 0s 10ms/step - loss: 0.3503 - accuracy: 0.8182\n",
      "Epoch 127/300\n",
      "8/8 [==============================] - 0s 10ms/step - loss: 0.2884 - accuracy: 0.8636\n",
      "Epoch 128/300\n",
      "8/8 [==============================] - 0s 10ms/step - loss: 0.3076 - accuracy: 0.8760\n",
      "Epoch 129/300\n",
      "8/8 [==============================] - 0s 10ms/step - loss: 0.3417 - accuracy: 0.8347\n",
      "Epoch 130/300\n",
      "8/8 [==============================] - 0s 10ms/step - loss: 0.2734 - accuracy: 0.8719\n",
      "Epoch 131/300\n",
      "8/8 [==============================] - 0s 13ms/step - loss: 0.2635 - accuracy: 0.8760\n",
      "Epoch 132/300\n",
      "8/8 [==============================] - 0s 9ms/step - loss: 0.2438 - accuracy: 0.8884\n",
      "Epoch 133/300\n",
      "8/8 [==============================] - 0s 9ms/step - loss: 0.2335 - accuracy: 0.9008\n",
      "Epoch 134/300\n",
      "8/8 [==============================] - 0s 10ms/step - loss: 0.2867 - accuracy: 0.8430\n",
      "Epoch 135/300\n",
      "8/8 [==============================] - 0s 11ms/step - loss: 0.2888 - accuracy: 0.8802\n",
      "Epoch 136/300\n",
      "8/8 [==============================] - 0s 10ms/step - loss: 0.2756 - accuracy: 0.8595\n",
      "Epoch 137/300\n",
      "8/8 [==============================] - 0s 10ms/step - loss: 0.2495 - accuracy: 0.8967\n",
      "Epoch 138/300\n",
      "8/8 [==============================] - 0s 10ms/step - loss: 0.2444 - accuracy: 0.8926\n",
      "Epoch 139/300\n",
      "8/8 [==============================] - 0s 10ms/step - loss: 0.2311 - accuracy: 0.8967\n",
      "Epoch 140/300\n",
      "8/8 [==============================] - 0s 10ms/step - loss: 0.2286 - accuracy: 0.8926\n",
      "Epoch 141/300\n",
      "8/8 [==============================] - 0s 10ms/step - loss: 0.2332 - accuracy: 0.8967\n",
      "Epoch 142/300\n",
      "8/8 [==============================] - 0s 10ms/step - loss: 0.2519 - accuracy: 0.8884\n",
      "Epoch 143/300\n",
      "8/8 [==============================] - 0s 10ms/step - loss: 0.2316 - accuracy: 0.8967\n",
      "Epoch 144/300\n",
      "8/8 [==============================] - 0s 10ms/step - loss: 0.2243 - accuracy: 0.9050\n",
      "Epoch 145/300\n",
      "8/8 [==============================] - 0s 10ms/step - loss: 0.2416 - accuracy: 0.8802\n",
      "Epoch 146/300\n",
      "8/8 [==============================] - 0s 11ms/step - loss: 0.2685 - accuracy: 0.8719\n",
      "Epoch 147/300\n",
      "8/8 [==============================] - 0s 10ms/step - loss: 0.2210 - accuracy: 0.9050\n",
      "Epoch 148/300\n",
      "8/8 [==============================] - 0s 10ms/step - loss: 0.2237 - accuracy: 0.8926\n",
      "Epoch 149/300\n",
      "8/8 [==============================] - 0s 10ms/step - loss: 0.2238 - accuracy: 0.8926\n",
      "Epoch 150/300\n",
      "8/8 [==============================] - 0s 10ms/step - loss: 0.2382 - accuracy: 0.8802\n",
      "Epoch 151/300\n",
      "8/8 [==============================] - 0s 10ms/step - loss: 0.2380 - accuracy: 0.8843\n",
      "Epoch 152/300\n",
      "8/8 [==============================] - 0s 10ms/step - loss: 0.2105 - accuracy: 0.8967\n",
      "Epoch 153/300\n",
      "8/8 [==============================] - 0s 10ms/step - loss: 0.2417 - accuracy: 0.8884\n",
      "Epoch 154/300\n",
      "8/8 [==============================] - 0s 10ms/step - loss: 0.2229 - accuracy: 0.9174\n",
      "Epoch 155/300\n",
      "8/8 [==============================] - 0s 10ms/step - loss: 0.2198 - accuracy: 0.8843\n",
      "Epoch 156/300\n",
      "8/8 [==============================] - 0s 10ms/step - loss: 0.2143 - accuracy: 0.8967\n",
      "Epoch 157/300\n",
      "8/8 [==============================] - 0s 10ms/step - loss: 0.2319 - accuracy: 0.9008\n",
      "Epoch 158/300\n",
      "8/8 [==============================] - 0s 10ms/step - loss: 0.2034 - accuracy: 0.8967\n",
      "Epoch 159/300\n",
      "8/8 [==============================] - 0s 10ms/step - loss: 0.1994 - accuracy: 0.9008\n",
      "Epoch 160/300\n",
      "8/8 [==============================] - 0s 12ms/step - loss: 0.2179 - accuracy: 0.8843\n",
      "Epoch 161/300\n",
      "8/8 [==============================] - 0s 9ms/step - loss: 0.2294 - accuracy: 0.9091\n",
      "Epoch 162/300\n",
      "8/8 [==============================] - 0s 10ms/step - loss: 0.1979 - accuracy: 0.9174\n",
      "Epoch 163/300\n",
      "8/8 [==============================] - 0s 10ms/step - loss: 0.2203 - accuracy: 0.8884\n",
      "Epoch 164/300\n",
      "8/8 [==============================] - 0s 10ms/step - loss: 0.2150 - accuracy: 0.8926\n",
      "Epoch 165/300\n",
      "8/8 [==============================] - 0s 9ms/step - loss: 0.2090 - accuracy: 0.9050\n",
      "Epoch 166/300\n",
      "8/8 [==============================] - 0s 10ms/step - loss: 0.2789 - accuracy: 0.8471\n",
      "Epoch 167/300\n",
      "8/8 [==============================] - 0s 10ms/step - loss: 0.2084 - accuracy: 0.9008\n",
      "Epoch 168/300\n",
      "8/8 [==============================] - 0s 10ms/step - loss: 0.2195 - accuracy: 0.8843\n",
      "Epoch 169/300\n",
      "8/8 [==============================] - 0s 10ms/step - loss: 0.2421 - accuracy: 0.8926\n",
      "Epoch 170/300\n",
      "8/8 [==============================] - 0s 10ms/step - loss: 0.2030 - accuracy: 0.8926\n",
      "Epoch 171/300\n",
      "8/8 [==============================] - 0s 10ms/step - loss: 0.2208 - accuracy: 0.8926\n",
      "Epoch 172/300\n",
      "8/8 [==============================] - 0s 10ms/step - loss: 0.2070 - accuracy: 0.8884\n",
      "Epoch 173/300\n",
      "8/8 [==============================] - 0s 10ms/step - loss: 0.1925 - accuracy: 0.8967\n",
      "Epoch 174/300\n",
      "8/8 [==============================] - 0s 13ms/step - loss: 0.1919 - accuracy: 0.9256\n",
      "Epoch 175/300\n",
      "8/8 [==============================] - 0s 9ms/step - loss: 0.1997 - accuracy: 0.9174\n",
      "Epoch 176/300\n",
      "8/8 [==============================] - 0s 9ms/step - loss: 0.1706 - accuracy: 0.9298\n",
      "Epoch 177/300\n",
      "8/8 [==============================] - 0s 11ms/step - loss: 0.2389 - accuracy: 0.8802\n",
      "Epoch 178/300\n",
      "8/8 [==============================] - 0s 10ms/step - loss: 0.2869 - accuracy: 0.8843\n",
      "Epoch 179/300\n",
      "8/8 [==============================] - 0s 10ms/step - loss: 0.2584 - accuracy: 0.8843\n",
      "Epoch 180/300\n",
      "8/8 [==============================] - 0s 9ms/step - loss: 0.2117 - accuracy: 0.8967\n",
      "Epoch 181/300\n",
      "8/8 [==============================] - 0s 10ms/step - loss: 0.1850 - accuracy: 0.9298\n",
      "Epoch 182/300\n",
      "8/8 [==============================] - 0s 10ms/step - loss: 0.2067 - accuracy: 0.9050\n",
      "Epoch 183/300\n",
      "8/8 [==============================] - 0s 11ms/step - loss: 0.1883 - accuracy: 0.9215\n",
      "Epoch 184/300\n",
      "8/8 [==============================] - 0s 10ms/step - loss: 0.2075 - accuracy: 0.8802\n",
      "Epoch 185/300\n",
      "8/8 [==============================] - 0s 9ms/step - loss: 0.2179 - accuracy: 0.8843\n",
      "Epoch 186/300\n",
      "8/8 [==============================] - 0s 9ms/step - loss: 0.2251 - accuracy: 0.8802\n",
      "Epoch 187/300\n",
      "8/8 [==============================] - 0s 9ms/step - loss: 0.1768 - accuracy: 0.9215\n",
      "Epoch 188/300\n",
      "8/8 [==============================] - 0s 10ms/step - loss: 0.1901 - accuracy: 0.9215\n",
      "Epoch 189/300\n",
      "8/8 [==============================] - 0s 10ms/step - loss: 0.1796 - accuracy: 0.9050\n",
      "Epoch 190/300\n",
      "8/8 [==============================] - 0s 10ms/step - loss: 0.1688 - accuracy: 0.9132\n",
      "Epoch 191/300\n",
      "8/8 [==============================] - 0s 10ms/step - loss: 0.1657 - accuracy: 0.9215\n",
      "Epoch 192/300\n",
      "8/8 [==============================] - 0s 9ms/step - loss: 0.1681 - accuracy: 0.9132\n",
      "Epoch 193/300\n",
      "8/8 [==============================] - 0s 9ms/step - loss: 0.2170 - accuracy: 0.9091\n",
      "Epoch 194/300\n",
      "8/8 [==============================] - 0s 10ms/step - loss: 0.2306 - accuracy: 0.8926\n",
      "Epoch 195/300\n",
      "8/8 [==============================] - 0s 10ms/step - loss: 0.2040 - accuracy: 0.8967\n",
      "Epoch 196/300\n",
      "8/8 [==============================] - 0s 10ms/step - loss: 0.1841 - accuracy: 0.9215\n",
      "Epoch 197/300\n",
      "8/8 [==============================] - 0s 10ms/step - loss: 0.1792 - accuracy: 0.9132\n",
      "Epoch 198/300\n",
      "8/8 [==============================] - 0s 10ms/step - loss: 0.2131 - accuracy: 0.8802\n",
      "Epoch 199/300\n",
      "8/8 [==============================] - 0s 12ms/step - loss: 0.2356 - accuracy: 0.8760\n",
      "Epoch 200/300\n",
      "8/8 [==============================] - 0s 10ms/step - loss: 0.1969 - accuracy: 0.9050\n",
      "Epoch 201/300\n",
      "8/8 [==============================] - 0s 10ms/step - loss: 0.1787 - accuracy: 0.9256\n",
      "Epoch 202/300\n",
      "8/8 [==============================] - 0s 10ms/step - loss: 0.1892 - accuracy: 0.9298\n",
      "Epoch 203/300\n",
      "8/8 [==============================] - 0s 10ms/step - loss: 0.1691 - accuracy: 0.9339\n",
      "Epoch 204/300\n",
      "8/8 [==============================] - 0s 10ms/step - loss: 0.1854 - accuracy: 0.8967\n",
      "Epoch 205/300\n",
      "8/8 [==============================] - 0s 11ms/step - loss: 0.1793 - accuracy: 0.9132\n",
      "Epoch 206/300\n",
      "8/8 [==============================] - 0s 10ms/step - loss: 0.1795 - accuracy: 0.9174\n",
      "Epoch 207/300\n",
      "8/8 [==============================] - 0s 10ms/step - loss: 0.1695 - accuracy: 0.9132\n",
      "Epoch 208/300\n",
      "8/8 [==============================] - 0s 10ms/step - loss: 0.1572 - accuracy: 0.9380\n",
      "Epoch 209/300\n",
      "8/8 [==============================] - 0s 10ms/step - loss: 0.1459 - accuracy: 0.9339\n",
      "Epoch 210/300\n",
      "8/8 [==============================] - 0s 10ms/step - loss: 0.1328 - accuracy: 0.9463\n",
      "Epoch 211/300\n",
      "8/8 [==============================] - 0s 13ms/step - loss: 0.1274 - accuracy: 0.9545\n",
      "Epoch 212/300\n",
      "8/8 [==============================] - 0s 10ms/step - loss: 0.1562 - accuracy: 0.9339\n",
      "Epoch 213/300\n",
      "8/8 [==============================] - 0s 10ms/step - loss: 0.1337 - accuracy: 0.9380\n",
      "Epoch 214/300\n",
      "8/8 [==============================] - 0s 10ms/step - loss: 0.1255 - accuracy: 0.9380\n",
      "Epoch 215/300\n",
      "8/8 [==============================] - 0s 10ms/step - loss: 0.1195 - accuracy: 0.9504\n",
      "Epoch 216/300\n",
      "8/8 [==============================] - 0s 10ms/step - loss: 0.1462 - accuracy: 0.9132\n",
      "Epoch 217/300\n",
      "8/8 [==============================] - 0s 11ms/step - loss: 0.1689 - accuracy: 0.9298\n",
      "Epoch 218/300\n",
      "8/8 [==============================] - 0s 10ms/step - loss: 0.1809 - accuracy: 0.9380\n",
      "Epoch 219/300\n",
      "8/8 [==============================] - 0s 11ms/step - loss: 0.1442 - accuracy: 0.9380\n",
      "Epoch 220/300\n",
      "8/8 [==============================] - 0s 9ms/step - loss: 0.1556 - accuracy: 0.9298\n",
      "Epoch 221/300\n",
      "8/8 [==============================] - 0s 9ms/step - loss: 0.1343 - accuracy: 0.9421\n",
      "Epoch 222/300\n",
      "8/8 [==============================] - 0s 9ms/step - loss: 0.1282 - accuracy: 0.9421\n",
      "Epoch 223/300\n",
      "8/8 [==============================] - 0s 10ms/step - loss: 0.1470 - accuracy: 0.9215\n",
      "Epoch 224/300\n",
      "8/8 [==============================] - 0s 14ms/step - loss: 0.1528 - accuracy: 0.9421\n",
      "Epoch 225/300\n",
      "8/8 [==============================] - 0s 9ms/step - loss: 0.1304 - accuracy: 0.9421\n",
      "Epoch 226/300\n",
      "8/8 [==============================] - 0s 10ms/step - loss: 0.2016 - accuracy: 0.8926\n",
      "Epoch 227/300\n",
      "8/8 [==============================] - 0s 9ms/step - loss: 0.1546 - accuracy: 0.9256\n",
      "Epoch 228/300\n",
      "8/8 [==============================] - 0s 9ms/step - loss: 0.2169 - accuracy: 0.9091\n",
      "Epoch 229/300\n",
      "8/8 [==============================] - 0s 10ms/step - loss: 0.3629 - accuracy: 0.8719\n",
      "Epoch 230/300\n",
      "8/8 [==============================] - 0s 11ms/step - loss: 0.2410 - accuracy: 0.8802\n",
      "Epoch 231/300\n",
      "8/8 [==============================] - 0s 10ms/step - loss: 0.2282 - accuracy: 0.8884\n",
      "Epoch 232/300\n",
      "8/8 [==============================] - 0s 10ms/step - loss: 0.1896 - accuracy: 0.9050\n",
      "Epoch 233/300\n",
      "8/8 [==============================] - 0s 10ms/step - loss: 0.1591 - accuracy: 0.9421\n",
      "Epoch 234/300\n",
      "8/8 [==============================] - 0s 11ms/step - loss: 0.2038 - accuracy: 0.8926\n",
      "Epoch 235/300\n",
      "8/8 [==============================] - 0s 10ms/step - loss: 0.2422 - accuracy: 0.8884\n",
      "Epoch 236/300\n",
      "8/8 [==============================] - 0s 13ms/step - loss: 0.1870 - accuracy: 0.9008\n",
      "Epoch 237/300\n",
      "8/8 [==============================] - 0s 9ms/step - loss: 0.2319 - accuracy: 0.8843\n",
      "Epoch 238/300\n",
      "8/8 [==============================] - 0s 9ms/step - loss: 0.1823 - accuracy: 0.9091\n",
      "Epoch 239/300\n",
      "8/8 [==============================] - 0s 9ms/step - loss: 0.1584 - accuracy: 0.9256\n",
      "Epoch 240/300\n",
      "8/8 [==============================] - 0s 10ms/step - loss: 0.1490 - accuracy: 0.9298\n",
      "Epoch 241/300\n",
      "8/8 [==============================] - 0s 10ms/step - loss: 0.1359 - accuracy: 0.9463\n",
      "Epoch 242/300\n",
      "8/8 [==============================] - 0s 10ms/step - loss: 0.1310 - accuracy: 0.9380\n",
      "Epoch 243/300\n",
      "8/8 [==============================] - 0s 10ms/step - loss: 0.1256 - accuracy: 0.9504\n",
      "Epoch 244/300\n",
      "8/8 [==============================] - 0s 10ms/step - loss: 0.1462 - accuracy: 0.9174\n",
      "Epoch 245/300\n",
      "8/8 [==============================] - 0s 10ms/step - loss: 0.1181 - accuracy: 0.9504\n",
      "Epoch 246/300\n",
      "8/8 [==============================] - 0s 10ms/step - loss: 0.1731 - accuracy: 0.9339\n",
      "Epoch 247/300\n",
      "8/8 [==============================] - 0s 10ms/step - loss: 0.1632 - accuracy: 0.9256\n",
      "Epoch 248/300\n",
      "8/8 [==============================] - 0s 11ms/step - loss: 0.1516 - accuracy: 0.9215\n",
      "Epoch 249/300\n",
      "8/8 [==============================] - 0s 12ms/step - loss: 0.1430 - accuracy: 0.9463\n",
      "Epoch 250/300\n",
      "8/8 [==============================] - 0s 10ms/step - loss: 0.1234 - accuracy: 0.9339\n",
      "Epoch 251/300\n",
      "8/8 [==============================] - 0s 10ms/step - loss: 0.1027 - accuracy: 0.9545\n",
      "Epoch 252/300\n",
      "8/8 [==============================] - 0s 10ms/step - loss: 0.0826 - accuracy: 0.9752\n",
      "Epoch 253/300\n",
      "8/8 [==============================] - 0s 11ms/step - loss: 0.0925 - accuracy: 0.9587\n",
      "Epoch 254/300\n",
      "8/8 [==============================] - 0s 10ms/step - loss: 0.0832 - accuracy: 0.9669\n",
      "Epoch 255/300\n",
      "8/8 [==============================] - 0s 10ms/step - loss: 0.0886 - accuracy: 0.9628\n",
      "Epoch 256/300\n",
      "8/8 [==============================] - 0s 10ms/step - loss: 0.0963 - accuracy: 0.9669\n",
      "Epoch 257/300\n",
      "8/8 [==============================] - 0s 9ms/step - loss: 0.1082 - accuracy: 0.9421\n",
      "Epoch 258/300\n",
      "8/8 [==============================] - 0s 9ms/step - loss: 0.1273 - accuracy: 0.9463\n",
      "Epoch 259/300\n",
      "8/8 [==============================] - 0s 10ms/step - loss: 0.1244 - accuracy: 0.9463\n",
      "Epoch 260/300\n",
      "8/8 [==============================] - 0s 9ms/step - loss: 0.1734 - accuracy: 0.9256\n",
      "Epoch 261/300\n",
      "8/8 [==============================] - 0s 9ms/step - loss: 0.1184 - accuracy: 0.9545\n",
      "Epoch 262/300\n",
      "8/8 [==============================] - 0s 13ms/step - loss: 0.1093 - accuracy: 0.9628\n",
      "Epoch 263/300\n",
      "8/8 [==============================] - 0s 11ms/step - loss: 0.0976 - accuracy: 0.9711\n",
      "Epoch 264/300\n",
      "8/8 [==============================] - 0s 9ms/step - loss: 0.0982 - accuracy: 0.9587\n",
      "Epoch 265/300\n",
      "8/8 [==============================] - 0s 9ms/step - loss: 0.1119 - accuracy: 0.9504\n",
      "Epoch 266/300\n",
      "8/8 [==============================] - 0s 9ms/step - loss: 0.0990 - accuracy: 0.9628\n",
      "Epoch 267/300\n",
      "8/8 [==============================] - 0s 10ms/step - loss: 0.1538 - accuracy: 0.9421\n",
      "Epoch 268/300\n",
      "8/8 [==============================] - 0s 9ms/step - loss: 0.1280 - accuracy: 0.9504\n",
      "Epoch 269/300\n",
      "8/8 [==============================] - 0s 9ms/step - loss: 0.1097 - accuracy: 0.9545\n",
      "Epoch 270/300\n",
      "8/8 [==============================] - 0s 9ms/step - loss: 0.1015 - accuracy: 0.9711\n",
      "Epoch 271/300\n",
      "8/8 [==============================] - 0s 10ms/step - loss: 0.1141 - accuracy: 0.9463\n",
      "Epoch 272/300\n",
      "8/8 [==============================] - 0s 9ms/step - loss: 0.1042 - accuracy: 0.9545\n",
      "Epoch 273/300\n",
      "8/8 [==============================] - 0s 9ms/step - loss: 0.2891 - accuracy: 0.9132\n",
      "Epoch 274/300\n",
      "8/8 [==============================] - 0s 12ms/step - loss: 0.1942 - accuracy: 0.9256\n",
      "Epoch 275/300\n",
      "8/8 [==============================] - 0s 10ms/step - loss: 0.1659 - accuracy: 0.9339\n",
      "Epoch 276/300\n",
      "8/8 [==============================] - 0s 10ms/step - loss: 0.0927 - accuracy: 0.9628\n",
      "Epoch 277/300\n",
      "8/8 [==============================] - 0s 10ms/step - loss: 0.0935 - accuracy: 0.9752\n",
      "Epoch 278/300\n",
      "8/8 [==============================] - 0s 10ms/step - loss: 0.0756 - accuracy: 0.9669\n",
      "Epoch 279/300\n",
      "8/8 [==============================] - 0s 10ms/step - loss: 0.0725 - accuracy: 0.9793\n",
      "Epoch 280/300\n",
      "8/8 [==============================] - 0s 9ms/step - loss: 0.0776 - accuracy: 0.9628\n",
      "Epoch 281/300\n",
      "8/8 [==============================] - 0s 9ms/step - loss: 0.0836 - accuracy: 0.9628\n",
      "Epoch 282/300\n",
      "8/8 [==============================] - 0s 9ms/step - loss: 0.1044 - accuracy: 0.9545\n",
      "Epoch 283/300\n",
      "8/8 [==============================] - 0s 10ms/step - loss: 0.0697 - accuracy: 0.9793\n",
      "Epoch 284/300\n",
      "8/8 [==============================] - 0s 10ms/step - loss: 0.0737 - accuracy: 0.9711\n",
      "Epoch 285/300\n",
      "8/8 [==============================] - 0s 10ms/step - loss: 0.0960 - accuracy: 0.9669\n",
      "Epoch 286/300\n",
      "8/8 [==============================] - 0s 13ms/step - loss: 0.2425 - accuracy: 0.8678\n",
      "Epoch 287/300\n",
      "8/8 [==============================] - 0s 9ms/step - loss: 0.2158 - accuracy: 0.9380\n",
      "Epoch 288/300\n",
      "8/8 [==============================] - 0s 10ms/step - loss: 0.1535 - accuracy: 0.9215\n",
      "Epoch 289/300\n",
      "8/8 [==============================] - 0s 10ms/step - loss: 0.1780 - accuracy: 0.9256\n",
      "Epoch 290/300\n",
      "8/8 [==============================] - 0s 11ms/step - loss: 0.3322 - accuracy: 0.8554\n",
      "Epoch 291/300\n",
      "8/8 [==============================] - 0s 11ms/step - loss: 0.2643 - accuracy: 0.8636\n",
      "Epoch 292/300\n",
      "8/8 [==============================] - 0s 9ms/step - loss: 0.2036 - accuracy: 0.8843\n",
      "Epoch 293/300\n",
      "8/8 [==============================] - 0s 10ms/step - loss: 0.1315 - accuracy: 0.9421\n",
      "Epoch 294/300\n",
      "8/8 [==============================] - 0s 9ms/step - loss: 0.1061 - accuracy: 0.9587\n",
      "Epoch 295/300\n",
      "8/8 [==============================] - 0s 9ms/step - loss: 0.0758 - accuracy: 0.9669\n",
      "Epoch 296/300\n",
      "8/8 [==============================] - 0s 10ms/step - loss: 0.0757 - accuracy: 0.9669\n",
      "Epoch 297/300\n",
      "8/8 [==============================] - 0s 13ms/step - loss: 0.0693 - accuracy: 0.9793\n",
      "Epoch 298/300\n",
      "8/8 [==============================] - 0s 10ms/step - loss: 0.0634 - accuracy: 0.9711\n",
      "Epoch 299/300\n",
      "8/8 [==============================] - 0s 10ms/step - loss: 0.0586 - accuracy: 0.9876\n",
      "Epoch 300/300\n",
      "8/8 [==============================] - 0s 11ms/step - loss: 0.0534 - accuracy: 0.9876\n"
     ]
    },
    {
     "data": {
      "text/plain": [
       "<keras.callbacks.History at 0x28c9b2dd0>"
      ]
     },
     "execution_count": 61,
     "metadata": {},
     "output_type": "execute_result"
    }
   ],
   "source": [
    "model.fit(X_train, Y_train, epochs=300)"
   ]
  },
  {
   "cell_type": "code",
   "execution_count": 62,
   "metadata": {
    "_uuid": "c844af4f00d40c4cce4c4e5a9a01c9a892e9533d"
   },
   "outputs": [
    {
     "name": "stdout",
     "output_type": "stream",
     "text": [
      "2/2 [==============================] - 0s 5ms/step\n"
     ]
    }
   ],
   "source": [
    "Y_pred_nn = model.predict(X_test)"
   ]
  },
  {
   "cell_type": "code",
   "execution_count": 63,
   "metadata": {
    "_uuid": "7e95c4946c0103225663862f43f31c41ed5aa2b1"
   },
   "outputs": [
    {
     "data": {
      "text/plain": [
       "(61, 1)"
      ]
     },
     "execution_count": 63,
     "metadata": {},
     "output_type": "execute_result"
    }
   ],
   "source": [
    "Y_pred_nn.shape"
   ]
  },
  {
   "cell_type": "code",
   "execution_count": 64,
   "metadata": {
    "_uuid": "66d9268e3f87b5a98066196eaa39363218a20015"
   },
   "outputs": [],
   "source": [
    "rounded = [round(x[0]) for x in Y_pred_nn]\n",
    "\n",
    "Y_pred_nn = rounded"
   ]
  },
  {
   "cell_type": "code",
   "execution_count": 65,
   "metadata": {
    "_uuid": "888d79632c3191c2d11c1ec3da8dc750c9d95424"
   },
   "outputs": [
    {
     "name": "stdout",
     "output_type": "stream",
     "text": [
      "The accuracy score achieved using Neural Network is: 80.33 %\n"
     ]
    }
   ],
   "source": [
    "score_nn = round(accuracy_score(Y_pred_nn, Y_test)*100, 2)\n",
    "\n",
    "print(\"The accuracy score achieved using Neural Network is: \"+str(score_nn)+\" %\")"
   ]
  },
  {
   "cell_type": "code",
   "execution_count": 73,
   "metadata": {},
   "outputs": [
    {
     "name": "stdout",
     "output_type": "stream",
     "text": [
      "2/2 [==============================] - 0s 40ms/step\n",
      "The accuracy score achieved using TensorFlow is: 55.73770491803278%\n",
      "2/2 [==============================] - 0s 5ms/step\n",
      "The accuracy score achieved using CNN is: 55.74%\n"
     ]
    }
   ],
   "source": [
    "import tensorflow as tf\n",
    "from sklearn.metrics import accuracy_score\n",
    "\n",
    "# Define the CNN model using the Keras Sequential API\n",
    "model = tf.keras.Sequential([\n",
    "    tf.keras.layers.Conv1D\n",
    "    (\n",
    "        filters=64, kernel_size=3, activation='relu', input_shape=(13,1), kernel_regularizer=tf.keras.regularizers.l2(0.01)\n",
    "    ),\n",
    "    tf.keras.layers.MaxPooling1D(pool_size=2),\n",
    "    tf.keras.layers.Flatten(),\n",
    "    tf.keras.layers.Dense(64, activation='relu', kernel_regularizer=tf.keras.regularizers.l2(0.01)),\n",
    "    tf.keras.layers.Dropout(0.2),\n",
    "    tf.keras.layers.Dense(32, activation='relu', kernel_regularizer=tf.keras.regularizers.l2(0.01)),\n",
    "    tf.keras.layers.Dropout(0.2),\n",
    "    tf.keras.layers.Dense(16, activation='relu', kernel_regularizer=tf.keras.regularizers.l2(0.01)),\n",
    "    tf.keras.layers.Dropout(0.2),\n",
    "    tf.keras.layers.Dense(8, activation='relu', kernel_regularizer=tf.keras.regularizers.l2(0.01)),\n",
    "    tf.keras.layers.Dropout(0.2),\n",
    "    tf.keras.layers.Dense(1, activation='sigmoid')\n",
    "])\n",
    "\n",
    "# Compile the model using the Adam optimizer and binary cross-entropy loss function\n",
    "model.compile(optimizer='adam', loss='binary_crossentropy', metrics=['accuracy'])\n",
    "\n",
    "# Reshape the input data for the CNN by adding a new dimension for the channel\n",
    "X_train_cnn = np.array(X_train).reshape(X_train.shape[0], X_train.shape[1], 1)\n",
    "X_test_cnn = np.array(X_test).reshape(X_test.shape[0], X_test.shape[1], 1)\n",
    "\n",
    "# Train the CNN model using early stopping to prevent overfitting\n",
    "early_stop = tf.keras.callbacks.EarlyStopping(monitor='val_loss', patience=10)\n",
    "history = model.fit(X_train_cnn, Y_train, epochs=100, batch_size=16, verbose=0, validation_split=0.2, callbacks=[early_stop])\n",
    "\n",
    "# Test the model\n",
    "Y_pred_tf = model.predict(X_test_cnn)\n",
    "Y_pred_tf_binary = np.round(Y_pred_tf).astype(int)\n",
    "y_test_binary = np.where(Y_test > 0.5, 1, 0)\n",
    "\n",
    "score_tf = accuracy_score(y_test_binary, Y_pred_tf_binary)\n",
    "print(\"The accuracy score achieved using TensorFlow is: \" + str(score_tf*100)+\"%\")\n",
    "\n",
    "Y_pred_nn = model.predict(X_test_cnn)\n",
    "rounded = [round(x[0]) for x in Y_pred_nn]\n",
    "Y_pred_nn = rounded\n",
    "\n",
    "score_nn = round(accuracy_score(Y_pred_nn, y_test_binary)*100, 2)\n",
    "print(\"The accuracy score achieved using CNN is: \"+str(score_nn)+\"%\")\n"
   ]
  },
  {
   "cell_type": "markdown",
   "metadata": {
    "_uuid": "c634cd922d716d350f6db0244772260cc598dec4"
   },
   "source": [
    "## VI. Output final score"
   ]
  },
  {
   "cell_type": "code",
   "execution_count": 92,
   "metadata": {
    "_uuid": "101daa51242624c49bb8b3198d9d2c9f8f1c596e"
   },
   "outputs": [
    {
     "name": "stdout",
     "output_type": "stream",
     "text": [
      "The accuracy score achieved using Logistic Regression is: 85.25 %\n",
      "The accuracy score achieved using Naive Bayes is: 85.25 %\n",
      "The accuracy score achieved using Support Vector Machine is: 81.97 %\n",
      "The accuracy score achieved using K-Nearest Neighbors is: 67.21 %\n",
      "The accuracy score achieved using Decision Tree is: 81.97 %\n",
      "The accuracy score achieved using Random Forest is: 90.16 %\n",
      "The accuracy score achieved using XGBoost is: 78.69 %\n",
      "The accuracy score achieved using CNN is: 55.74 %\n"
     ]
    }
   ],
   "source": [
    "scores = [score_lr, score_nb, score_svm, score_knn,\n",
    "          score_dt, score_rf, score_xgb, score_nn]\n",
    "algorithms = [\n",
    "    \"Logistic Regression\", \n",
    "    \"Naive Bayes\", \n",
    "    \"Support Vector Machine\",\n",
    "    \"K-Nearest Neighbors\", \n",
    "    \"Decision Tree\", \n",
    "    \"Random Forest\", \n",
    "    \"XGBoost\", \n",
    "    \"CNN\"\n",
    "]\n",
    "\n",
    "for i in range(len(algorithms)):\n",
    "    print(\"The accuracy score achieved using \" + algorithms[i]+\" is: \"+str(scores[i])+\" %\")"
   ]
  },
  {
   "cell_type": "code",
   "execution_count": 93,
   "metadata": {
    "_uuid": "8060c7d426f9f7b64772f37e0a74ededca16838d"
   },
   "outputs": [
    {
     "data": {
      "text/plain": [
       "<Axes: xlabel='Algorithms', ylabel='Accuracy score'>"
      ]
     },
     "execution_count": 93,
     "metadata": {},
     "output_type": "execute_result"
    },
    {
     "data": {
      "image/png": "[encoded data removed]",
      "text/plain": [
       "<Figure size 1500x800 with 1 Axes>"
      ]
     },
     "metadata": {},
     "output_type": "display_data"
    }
   ],
   "source": [
    "sns.set(rc={'figure.figsize': (15, 8)})\n",
    "plt.xlabel(\"Algorithms\")\n",
    "plt.ylabel(\"Accuracy score\")\n",
    "\n",
    "sns.barplot(x=algorithms, y=scores)"
   ]
  }
 ],
 "metadata": {
  "kernelspec": {
   "display_name": "Python 3",
   "language": "python",
   "name": "python3"
  },
  "language_info": {
   "codemirror_mode": {
    "name": "ipython",
    "version": 3
   },
   "file_extension": ".py",
   "mimetype": "text/x-python",
   "name": "python",
   "nbconvert_exporter": "python",
   "pygments_lexer": "ipython3",
   "version": "3.10.10"
  }
 },
 "nbformat": 4,
 "nbformat_minor": 1
}
